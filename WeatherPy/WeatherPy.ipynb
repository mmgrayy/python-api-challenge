{
 "cells": [
  {
   "cell_type": "markdown",
   "metadata": {},
   "source": [
    "# WeatherPy\n",
    "----\n",
    "\n",
    "#### Analysis\n",
    "After collecting weather data from _# of random cities around the world using an API_key & OpenWeatherMap API, it can be stated that max temperatures are reached when nearing the equator in both the northern and southern hemispheres. \n",
    "Everytime the dataset is run, different cities are analyzed, but I think a generalization that can be made is there is a low amount of correlation between humidity and latitude, and that the cloudiness (%) data seemed be to evenly distributed around the cities regardless of the latitude.\n"
   ]
  },
  {
   "cell_type": "code",
   "execution_count": 35,
   "metadata": {
    "scrolled": true
   },
   "outputs": [],
   "source": [
    "# Dependencies and Setup\n",
    "import matplotlib.pyplot as plt\n",
    "import pandas as pd\n",
    "import numpy as np\n",
    "import requests\n",
    "import time\n",
    "import json\n",
    "from scipy.stats import linregress\n",
    "import scipy.stats as st\n",
    "from datetime import datetime \n",
    "from scipy import stats \n",
    "\n",
    "# Import API key\n",
    "from api_keys import api_key\n",
    "\n",
    "# Incorporated citipy to determine city based on latitude and longitude\n",
    "from citipy import citipy\n",
    "\n",
    "# Output File (CSV)\n",
    "output_data_file = \"../output_data/cities.csv\"\n",
    "\n",
    "# Range of latitudes and longitudes\n",
    "lat_range = (-90, 90)\n",
    "lng_range = (-180, 180)"
   ]
  },
  {
   "cell_type": "markdown",
   "metadata": {},
   "source": [
    "## Generate Cities List"
   ]
  },
  {
   "cell_type": "code",
   "execution_count": 36,
   "metadata": {},
   "outputs": [
    {
     "data": {
      "text/plain": [
       "629"
      ]
     },
     "execution_count": 36,
     "metadata": {},
     "output_type": "execute_result"
    }
   ],
   "source": [
    "# List for holding lat_lngs and cities\n",
    "lat_lngs = []\n",
    "cities = []\n",
    "\n",
    "# Create a set of random lat and lng combinations\n",
    "lats = np.random.uniform(lat_range[0], lat_range[1], size=1500)\n",
    "lngs = np.random.uniform(lng_range[0], lng_range[1], size=1500)\n",
    "lat_lngs = zip(lats, lngs)\n",
    "\n",
    "# Identify nearest city for each lat, lng combination\n",
    "for lat_lng in lat_lngs:\n",
    "    city = citipy.nearest_city(lat_lng[0], lat_lng[1]).city_name\n",
    "    \n",
    "    # If the city is unique, then add it to a our cities list\n",
    "    if city not in cities:\n",
    "        cities.append(city)\n",
    "\n",
    "# Print the city count to confirm sufficient count\n",
    "len(cities)"
   ]
  },
  {
   "cell_type": "markdown",
   "metadata": {},
   "source": [
    "### Perform API Calls\n",
    "* Perform a weather check on each city using a series of successive API calls.\n",
    "* Include a print log of each city as it'sbeing processed (with the city number and city name).\n"
   ]
  },
  {
   "cell_type": "code",
   "execution_count": 38,
   "metadata": {
    "scrolled": true
   },
   "outputs": [
    {
     "data": {
      "text/plain": [
       "{'coord': {'lon': -152.4072, 'lat': 57.79},\n",
       " 'weather': [{'id': 804,\n",
       "   'main': 'Clouds',\n",
       "   'description': 'overcast clouds',\n",
       "   'icon': '04d'}],\n",
       " 'base': 'stations',\n",
       " 'main': {'temp': 42.31,\n",
       "  'feels_like': 37.38,\n",
       "  'temp_min': 39.27,\n",
       "  'temp_max': 42.31,\n",
       "  'pressure': 993,\n",
       "  'humidity': 81},\n",
       " 'visibility': 10000,\n",
       " 'wind': {'speed': 8.05, 'deg': 50},\n",
       " 'clouds': {'all': 90},\n",
       " 'dt': 1634854528,\n",
       " 'sys': {'type': 1,\n",
       "  'id': 7668,\n",
       "  'country': 'US',\n",
       "  'sunrise': 1634835521,\n",
       "  'sunset': 1634870961},\n",
       " 'timezone': -28800,\n",
       " 'id': 5866583,\n",
       " 'name': 'Saint Paul Harbor',\n",
       " 'cod': 200}"
      ]
     },
     "execution_count": 38,
     "metadata": {},
     "output_type": "execute_result"
    }
   ],
   "source": [
    "# Save config information\n",
    "url = \"http://api.openweathermap.org/data/2.5/weather?\"\n",
    "units= \"imperial\" \n",
    "# Build query URL\n",
    "query_url = f\"{url}appid={api_key}&units={units}&q=\"\n",
    "requests.get(query_url + city).json()"
   ]
  },
  {
   "cell_type": "code",
   "execution_count": 39,
   "metadata": {},
   "outputs": [
    {
     "name": "stdout",
     "output_type": "stream",
     "text": [
      "Beginning Data Retrieval\n",
      "-------------------------------\n",
      "Processing Record 1 of Set 1 | Edson\n",
      "Processing Record 2 of Set 1 | Guangzhou\n",
      "Processing Record 3 of Set 1 | Nikolskoye\n",
      "Processing Record 4 of Set 1 | Havre-St-Pierre\n",
      "Processing Record 5 of Set 1 | Kuril'sk\n",
      "City not found. Skipping...\n",
      "Processing Record 6 of Set 1 | Atuona\n",
      "City not found. Skipping...\n",
      "Processing Record 7 of Set 1 | Hermanus\n",
      "Processing Record 8 of Set 1 | Punta Arenas\n",
      "Processing Record 9 of Set 1 | Souillac\n",
      "Processing Record 10 of Set 1 | Taoudenni\n",
      "Processing Record 11 of Set 1 | Hasaki\n",
      "Processing Record 12 of Set 1 | Chokurdakh\n",
      "City not found. Skipping...\n",
      "Processing Record 13 of Set 1 | Aklavik\n",
      "City not found. Skipping...\n",
      "Processing Record 14 of Set 1 | Ponta do Sol\n",
      "Processing Record 15 of Set 1 | Beira\n",
      "Processing Record 16 of Set 1 | New Norfolk\n",
      "Processing Record 17 of Set 1 | Port Alfred\n",
      "Processing Record 18 of Set 1 | Jamestown\n",
      "Processing Record 19 of Set 1 | Tiksi\n",
      "Processing Record 20 of Set 1 | Tuatapere\n",
      "Processing Record 21 of Set 1 | Lebu\n",
      "Processing Record 22 of Set 1 | Chui\n",
      "Processing Record 23 of Set 1 | Gelemso\n",
      "Processing Record 24 of Set 1 | Albany\n",
      "Processing Record 25 of Set 1 | Orchard Homes\n",
      "Processing Record 26 of Set 1 | Srednekolymsk\n",
      "Processing Record 27 of Set 1 | Coimbra\n",
      "Processing Record 28 of Set 1 | Salalah\n",
      "Processing Record 29 of Set 1 | Upernavik\n",
      "Processing Record 30 of Set 1 | Barrow\n",
      "Processing Record 31 of Set 1 | Mataura\n",
      "Processing Record 32 of Set 1 | Khatanga\n",
      "Processing Record 33 of Set 1 | Jega\n",
      "Processing Record 34 of Set 1 | Arraial do Cabo\n",
      "Processing Record 35 of Set 1 | Mezen'\n",
      "Processing Record 36 of Set 1 | Torbay\n",
      "City not found. Skipping...\n",
      "Processing Record 37 of Set 1 | Ahipara\n",
      "City not found. Skipping...\n",
      "Processing Record 38 of Set 1 | Koson\n",
      "Processing Record 39 of Set 1 | Ushuaia\n",
      "Processing Record 40 of Set 1 | Cumberland\n",
      "Processing Record 41 of Set 1 | Busselton\n",
      "Processing Record 42 of Set 1 | Sidi Ali\n",
      "Processing Record 43 of Set 1 | Waipawa\n",
      "Processing Record 44 of Set 1 | Rikitea\n",
      "Processing Record 0 of Set 2 | Tahe\n",
      "Processing Record 1 of Set 2 | Hithadhoo\n",
      "Processing Record 2 of Set 2 | Iqaluit\n",
      "Processing Record 3 of Set 2 | Almaznyy\n",
      "Processing Record 4 of Set 2 | Kapaa\n",
      "Processing Record 5 of Set 2 | Kavieng\n",
      "Processing Record 6 of Set 2 | Avarua\n",
      "Processing Record 7 of Set 2 | Carnarvon\n",
      "City not found. Skipping...\n",
      "Processing Record 8 of Set 2 | Verāval\n",
      "Processing Record 9 of Set 2 | Bredasdorp\n",
      "Processing Record 10 of Set 2 | Digby\n",
      "Processing Record 11 of Set 2 | Bluff\n",
      "Processing Record 12 of Set 2 | Buraidah\n",
      "Processing Record 13 of Set 2 | Moerai\n",
      "Processing Record 14 of Set 2 | Ranau\n",
      "Processing Record 15 of Set 2 | Pochutla\n",
      "Processing Record 16 of Set 2 | Longyearbyen\n",
      "Processing Record 17 of Set 2 | Codrington\n",
      "Processing Record 18 of Set 2 | Tarifa\n",
      "Processing Record 19 of Set 2 | Saint-François\n",
      "Processing Record 20 of Set 2 | Severo-Kuril'sk\n",
      "Processing Record 21 of Set 2 | Spornoye\n",
      "City not found. Skipping...\n",
      "Processing Record 22 of Set 2 | Cidreira\n",
      "Processing Record 23 of Set 2 | Olafsvik\n",
      "Processing Record 24 of Set 2 | Port Hardy\n",
      "Processing Record 25 of Set 2 | Iringa\n",
      "City not found. Skipping...\n",
      "Processing Record 26 of Set 2 | Coyhaique\n",
      "City not found. Skipping...\n",
      "Processing Record 27 of Set 2 | Port Hawkesbury\n",
      "Processing Record 28 of Set 2 | Venado Tuerto\n",
      "Processing Record 29 of Set 2 | Smolenka\n",
      "Processing Record 30 of Set 2 | Tasiilaq\n",
      "Processing Record 31 of Set 2 | Toledo\n",
      "Processing Record 32 of Set 2 | Ostrovnoy\n",
      "Processing Record 33 of Set 2 | Mossamedes\n",
      "Processing Record 34 of Set 2 | Klaksvík\n",
      "Processing Record 35 of Set 2 | Kedrovka\n",
      "Processing Record 36 of Set 2 | Pontian Kecil\n",
      "Processing Record 37 of Set 2 | São Filipe\n",
      "Processing Record 38 of Set 2 | Saint Anthony\n",
      "Processing Record 39 of Set 2 | Hilo\n",
      "Processing Record 40 of Set 2 | Kasama\n",
      "Processing Record 41 of Set 2 | Mar del Plata\n",
      "Processing Record 42 of Set 2 | Östersund\n",
      "Processing Record 43 of Set 2 | Bethel\n",
      "Processing Record 44 of Set 2 | Asău\n",
      "City not found. Skipping...\n",
      "Processing Record 0 of Set 3 | Qasigiannguit\n",
      "Processing Record 1 of Set 3 | Norman Wells\n",
      "Processing Record 2 of Set 3 | Tazovsky\n",
      "Processing Record 3 of Set 3 | Nemuro\n",
      "Processing Record 4 of Set 3 | Nanortalik\n",
      "City not found. Skipping...\n",
      "Processing Record 5 of Set 3 | Ilulissat\n",
      "Processing Record 6 of Set 3 | Provideniya\n",
      "Processing Record 7 of Set 3 | Udachny\n",
      "Processing Record 8 of Set 3 | Deputatsky\n",
      "Processing Record 9 of Set 3 | Belaya Gora\n",
      "Processing Record 10 of Set 3 | Airai\n",
      "City not found. Skipping...\n",
      "Processing Record 11 of Set 3 | Tupik\n",
      "Processing Record 12 of Set 3 | Garoowe\n",
      "Processing Record 13 of Set 3 | Monrovia\n",
      "Processing Record 14 of Set 3 | Katsuura\n",
      "Processing Record 15 of Set 3 | Cape Town\n",
      "Processing Record 16 of Set 3 | Tres Arroyos\n",
      "Processing Record 17 of Set 3 | Qaanaaq\n",
      "Processing Record 18 of Set 3 | Safi\n",
      "Processing Record 19 of Set 3 | Quatre Cocos\n",
      "Processing Record 20 of Set 3 | Hwange\n",
      "Processing Record 21 of Set 3 | Junín\n",
      "Processing Record 22 of Set 3 | Requena\n",
      "Processing Record 23 of Set 3 | Bengkulu\n",
      "Processing Record 24 of Set 3 | Kysyl-Syr\n",
      "Processing Record 25 of Set 3 | Moundou\n",
      "Processing Record 26 of Set 3 | Khovd\n",
      "Processing Record 27 of Set 3 | Tekeli\n",
      "Processing Record 28 of Set 3 | Ancud\n",
      "Processing Record 29 of Set 3 | Champerico\n",
      "Processing Record 30 of Set 3 | Pudozh\n",
      "Processing Record 31 of Set 3 | Manakara\n",
      "Processing Record 32 of Set 3 | Weligama\n",
      "Processing Record 33 of Set 3 | Barddhamān\n",
      "Processing Record 34 of Set 3 | Nouadhibou\n",
      "Processing Record 35 of Set 3 | Nkhotakota\n",
      "Processing Record 36 of Set 3 | Ponta Delgada\n",
      "Processing Record 37 of Set 3 | Puerto Ayora\n",
      "Processing Record 38 of Set 3 | Hervey Bay\n",
      "Processing Record 39 of Set 3 | Yerbogachën\n",
      "Processing Record 40 of Set 3 | Kalach-na-Donu\n",
      "Processing Record 41 of Set 3 | Homer\n",
      "Processing Record 42 of Set 3 | Ketchikan\n",
      "Processing Record 43 of Set 3 | Saldanha\n",
      "Processing Record 44 of Set 3 | Córdoba\n",
      "City not found. Skipping...\n",
      "Processing Record 45 of Set 3 | Tarragona\n",
      "Processing Record 46 of Set 3 | Kiryat Gat\n",
      "Processing Record 0 of Set 4 | Mayo\n",
      "Processing Record 1 of Set 4 | Mandalgovi\n",
      "Processing Record 2 of Set 4 | Saint-Philippe\n",
      "City not found. Skipping...\n",
      "Processing Record 3 of Set 4 | Lufilufi\n",
      "Processing Record 4 of Set 4 | Constitución\n",
      "Processing Record 5 of Set 4 | Doha\n",
      "Processing Record 6 of Set 4 | Grand Gaube\n",
      "Processing Record 7 of Set 4 | Turtas\n",
      "Processing Record 8 of Set 4 | Colorines\n",
      "Processing Record 9 of Set 4 | Husavik\n",
      "Processing Record 10 of Set 4 | Māndvi\n",
      "Processing Record 11 of Set 4 | Khani\n",
      "Processing Record 12 of Set 4 | Anadyr\n",
      "Processing Record 13 of Set 4 | Talnakh\n",
      "Processing Record 14 of Set 4 | Ferkessédougou\n",
      "Processing Record 15 of Set 4 | Wanning\n",
      "Processing Record 16 of Set 4 | Tamiahua\n",
      "Processing Record 17 of Set 4 | Katangli\n",
      "Processing Record 18 of Set 4 | Bobo-Dioulasso\n",
      "Processing Record 19 of Set 4 | Chapais\n",
      "Processing Record 20 of Set 4 | Cherskiy\n",
      "City not found. Skipping...\n",
      "Processing Record 21 of Set 4 | Puerto Carreño\n",
      "Processing Record 22 of Set 4 | Kamenka\n",
      "Processing Record 23 of Set 4 | Castro\n",
      "Processing Record 24 of Set 4 | Port Lincoln\n",
      "Processing Record 25 of Set 4 | Saint-Paul\n",
      "Processing Record 26 of Set 4 | Saint Paul Harbor\n",
      "Processing Record 27 of Set 4 | Huicheng\n",
      "Processing Record 28 of Set 4 | Natal\n",
      "City not found. Skipping...\n",
      "Processing Record 29 of Set 4 | Taylor\n",
      "Processing Record 30 of Set 4 | Inhambane\n",
      "City not found. Skipping...\n",
      "Processing Record 31 of Set 4 | Bariloche\n",
      "Processing Record 32 of Set 4 | Panabá\n",
      "Processing Record 33 of Set 4 | Clyde River\n",
      "Processing Record 34 of Set 4 | College\n",
      "Processing Record 35 of Set 4 | Okhotsk\n",
      "Processing Record 36 of Set 4 | Port Elizabeth\n",
      "Processing Record 37 of Set 4 | Yellowknife\n",
      "Processing Record 38 of Set 4 | Yerofey Pavlovich\n",
      "Processing Record 39 of Set 4 | George Town\n",
      "Processing Record 40 of Set 4 | Amealco\n",
      "Processing Record 41 of Set 4 | Ola\n",
      "Processing Record 42 of Set 4 | Bambous Virieux\n",
      "Processing Record 43 of Set 4 | Pedra Branca\n",
      "Processing Record 44 of Set 4 | Jaranwala\n",
      "Processing Record 45 of Set 4 | Tacuarembó\n",
      "City not found. Skipping...\n",
      "Processing Record 0 of Set 5 | Shihezi\n",
      "Processing Record 1 of Set 5 | East London\n"
     ]
    },
    {
     "name": "stdout",
     "output_type": "stream",
     "text": [
      "Processing Record 2 of Set 5 | Arrondissement d'Ajaccio\n",
      "Processing Record 3 of Set 5 | Nārāyanganj\n",
      "City not found. Skipping...\n",
      "Processing Record 4 of Set 5 | Martapura\n",
      "Processing Record 5 of Set 5 | Caruray\n",
      "Processing Record 6 of Set 5 | Shimoda\n",
      "Processing Record 7 of Set 5 | Zhanakorgan\n",
      "Processing Record 8 of Set 5 | Vaini\n",
      "Processing Record 9 of Set 5 | Havelock\n",
      "Processing Record 10 of Set 5 | Puerto Escondido\n",
      "Processing Record 11 of Set 5 | Charters Towers\n",
      "Processing Record 12 of Set 5 | Poum\n",
      "Processing Record 13 of Set 5 | Krasnosel'kup\n",
      "Processing Record 14 of Set 5 | Meulaboh\n",
      "Processing Record 15 of Set 5 | Oranjestad\n",
      "Processing Record 16 of Set 5 | Geraldton\n",
      "Processing Record 17 of Set 5 | Legnica\n",
      "Processing Record 18 of Set 5 | Pemba\n",
      "Processing Record 19 of Set 5 | Solnechnyy\n",
      "Processing Record 20 of Set 5 | Lodja\n",
      "City not found. Skipping...\n",
      "Processing Record 21 of Set 5 | Luba\n",
      "Processing Record 22 of Set 5 | Mahébourg\n",
      "Processing Record 23 of Set 5 | Nyurba\n",
      "Processing Record 24 of Set 5 | The Valley\n",
      "City not found. Skipping...\n",
      "Processing Record 25 of Set 5 | Tuy Hoa\n",
      "Processing Record 26 of Set 5 | Sorong\n",
      "Processing Record 27 of Set 5 | Boddam\n",
      "Processing Record 28 of Set 5 | Melilla\n",
      "Processing Record 29 of Set 5 | Kruisfontein\n",
      "Processing Record 30 of Set 5 | Port Blair\n",
      "Processing Record 31 of Set 5 | Falam\n",
      "Processing Record 32 of Set 5 | Aksu\n",
      "Processing Record 33 of Set 5 | Saurimo\n",
      "Processing Record 34 of Set 5 | Cap-aux-Meules\n",
      "Processing Record 35 of Set 5 | Hongjiang\n",
      "Processing Record 36 of Set 5 | Midland\n",
      "Processing Record 37 of Set 5 | Ixtapa\n",
      "Processing Record 38 of Set 5 | Trincomalee\n",
      "Processing Record 39 of Set 5 | Makakilo City\n",
      "Processing Record 40 of Set 5 | Ust-Kuyga\n",
      "Processing Record 41 of Set 5 | Tadine\n",
      "Processing Record 42 of Set 5 | Ulaanbaatar\n",
      "Processing Record 43 of Set 5 | Hong Kong\n",
      "Processing Record 44 of Set 5 | Pobé\n",
      "City not found. Skipping...\n",
      "Processing Record 0 of Set 6 | Ribeira Grande\n",
      "Processing Record 1 of Set 6 | Anking\n",
      "Processing Record 2 of Set 6 | Joshīmath\n",
      "City not found. Skipping...\n",
      "Processing Record 3 of Set 6 | La Palma\n",
      "Processing Record 4 of Set 6 | Saint-Augustin\n",
      "Processing Record 5 of Set 6 | Tuktoyaktuk\n",
      "Processing Record 6 of Set 6 | Cabo San Lucas\n",
      "Processing Record 7 of Set 6 | Okha\n",
      "Processing Record 8 of Set 6 | Yangi Marg`ilon\n",
      "Processing Record 9 of Set 6 | Beringovskiy\n",
      "Processing Record 10 of Set 6 | Santa Maria\n",
      "Processing Record 11 of Set 6 | Ajdabiya\n",
      "Processing Record 12 of Set 6 | Nakanojōmachi\n",
      "Processing Record 13 of Set 6 | Faya\n",
      "Processing Record 14 of Set 6 | Berbera\n",
      "Processing Record 15 of Set 6 | Kushima\n",
      "Processing Record 16 of Set 6 | Dikson\n",
      "Processing Record 17 of Set 6 | Banjar\n",
      "Processing Record 18 of Set 6 | Butaritari\n",
      "Processing Record 19 of Set 6 | Lodwar\n",
      "City not found. Skipping...\n",
      "Processing Record 20 of Set 6 | Kibre Mengist\n",
      "Processing Record 21 of Set 6 | Verkhnevilyuysk\n",
      "Processing Record 22 of Set 6 | Leningradskiy\n",
      "Processing Record 23 of Set 6 | Thompson\n",
      "Processing Record 24 of Set 6 | Hobart\n",
      "Processing Record 25 of Set 6 | Goderich\n",
      "Processing Record 26 of Set 6 | Bang Saphan\n",
      "Processing Record 27 of Set 6 | Anloga\n",
      "Processing Record 28 of Set 6 | Menongue\n",
      "Processing Record 29 of Set 6 | Labuhan\n",
      "Processing Record 30 of Set 6 | Namatanai\n",
      "Processing Record 31 of Set 6 | Chālūs\n",
      "City not found. Skipping...\n",
      "Processing Record 32 of Set 6 | Petropavlovsk-Kamchatskiy\n",
      "Processing Record 33 of Set 6 | Władysławowo\n",
      "Processing Record 34 of Set 6 | Peleduy\n",
      "Processing Record 35 of Set 6 | Esperance\n",
      "Processing Record 36 of Set 6 | Liverpool\n",
      "Processing Record 37 of Set 6 | Bima\n",
      "Processing Record 38 of Set 6 | Zeya\n",
      "Processing Record 39 of Set 6 | Slave Lake\n",
      "Processing Record 40 of Set 6 | Linqiong\n",
      "Processing Record 41 of Set 6 | Bilma\n",
      "Processing Record 42 of Set 6 | Narsaq\n",
      "Processing Record 43 of Set 6 | Pangnirtung\n",
      "Processing Record 44 of Set 6 | Tabou\n",
      "Processing Record 45 of Set 6 | Ballina\n",
      "Processing Record 46 of Set 6 | Atambua\n",
      "Processing Record 0 of Set 7 | Ewo\n",
      "Processing Record 1 of Set 7 | Mount Isa\n",
      "Processing Record 2 of Set 7 | Lamar\n",
      "Processing Record 3 of Set 7 | Itaporanga\n",
      "City not found. Skipping...\n",
      "Processing Record 4 of Set 7 | Tura\n",
      "Processing Record 5 of Set 7 | Coquimbo\n",
      "Processing Record 6 of Set 7 | Kaitangata\n",
      "Processing Record 7 of Set 7 | Bairiki Village\n",
      "Processing Record 8 of Set 7 | Palmer\n",
      "Processing Record 9 of Set 7 | Karratha\n",
      "Processing Record 10 of Set 7 | Humberto de Campos\n",
      "Processing Record 11 of Set 7 | Fortuna\n",
      "Processing Record 12 of Set 7 | Yima\n",
      "Processing Record 13 of Set 7 | Saint-Pierre\n",
      "Processing Record 14 of Set 7 | Mehamn\n",
      "Processing Record 15 of Set 7 | Cherkasskoye\n",
      "Processing Record 16 of Set 7 | Kalmunai\n",
      "Processing Record 17 of Set 7 | Samaná\n",
      "Processing Record 18 of Set 7 | Selenduma\n",
      "Processing Record 19 of Set 7 | Hamilton\n",
      "Processing Record 20 of Set 7 | Markova\n",
      "Processing Record 21 of Set 7 | Kindu\n",
      "Processing Record 22 of Set 7 | Gizo Government Station\n",
      "Processing Record 23 of Set 7 | Ruwi\n",
      "Processing Record 24 of Set 7 | Albacete\n",
      "Processing Record 25 of Set 7 | Mokhsogollokh\n",
      "Processing Record 26 of Set 7 | Goes\n",
      "Processing Record 27 of Set 7 | Henties Bay\n",
      "Processing Record 28 of Set 7 | Mount Gambier\n",
      "City not found. Skipping...\n",
      "Processing Record 29 of Set 7 | Alofi\n",
      "Processing Record 30 of Set 7 | Dingle\n",
      "Processing Record 31 of Set 7 | Povenets\n",
      "Processing Record 32 of Set 7 | Lagoa Formosa\n",
      "Processing Record 33 of Set 7 | Bentiu\n",
      "Processing Record 34 of Set 7 | Umm Kaddadah\n",
      "Processing Record 35 of Set 7 | Chicama\n",
      "Processing Record 36 of Set 7 | Vestmannaeyjar\n",
      "Processing Record 37 of Set 7 | Luancheng\n",
      "Processing Record 38 of Set 7 | Gushikawa\n",
      "Processing Record 39 of Set 7 | Nome\n",
      "Processing Record 40 of Set 7 | Stokmarknes\n",
      "Processing Record 41 of Set 7 | Gladstone\n",
      "Processing Record 42 of Set 7 | Nelson Bay\n",
      "Processing Record 43 of Set 7 | Haines Junction\n",
      "Processing Record 44 of Set 7 | Turukhansk\n",
      "Processing Record 45 of Set 7 | Faanui\n",
      "City not found. Skipping...\n",
      "Processing Record 46 of Set 7 | Buritizeiro\n",
      "Processing Record 0 of Set 8 | Andenes\n",
      "Processing Record 1 of Set 8 | Port Alberni\n",
      "Processing Record 2 of Set 8 | Vilhena\n",
      "Processing Record 3 of Set 8 | Laguna\n",
      "Processing Record 4 of Set 8 | Seoul\n",
      "Processing Record 5 of Set 8 | Alta Gracia\n",
      "Processing Record 6 of Set 8 | Diffa\n",
      "Processing Record 7 of Set 8 | Guerrero Negro\n",
      "Processing Record 8 of Set 8 | Camacupa\n",
      "City not found. Skipping...\n",
      "Processing Record 9 of Set 8 | Erzin\n",
      "Processing Record 10 of Set 8 | San Patricio\n",
      "Processing Record 11 of Set 8 | Boyolangu\n",
      "Processing Record 12 of Set 8 | Yashkul'\n",
      "Processing Record 13 of Set 8 | Santa Cruz de la Sierra\n",
      "Processing Record 14 of Set 8 | San Andrés\n",
      "Processing Record 15 of Set 8 | Plettenberg Bay\n",
      "Processing Record 16 of Set 8 | Hannibal\n",
      "Processing Record 17 of Set 8 | Vila Franca do Campo\n",
      "City not found. Skipping...\n",
      "City not found. Skipping...\n",
      "Processing Record 18 of Set 8 | Mizdah\n",
      "Processing Record 19 of Set 8 | Muros\n",
      "Processing Record 20 of Set 8 | Olinda\n",
      "Processing Record 21 of Set 8 | Aksarka\n",
      "Processing Record 22 of Set 8 | Shirokiy\n",
      "Processing Record 23 of Set 8 | Morro Bay\n",
      "Processing Record 24 of Set 8 | Kushiro\n",
      "Processing Record 25 of Set 8 | Araouane\n",
      "Processing Record 26 of Set 8 | Burnie\n",
      "Processing Record 27 of Set 8 | Abéché\n",
      "Processing Record 28 of Set 8 | Ust-Nera\n",
      "Processing Record 29 of Set 8 | Pogar\n",
      "Processing Record 30 of Set 8 | Borba\n",
      "Processing Record 31 of Set 8 | Eyl\n",
      "Processing Record 32 of Set 8 | Khambhāt\n",
      "Processing Record 33 of Set 8 | Lavrentiya\n",
      "Processing Record 34 of Set 8 | Port Moresby\n",
      "Processing Record 35 of Set 8 | Lagoa\n",
      "Processing Record 36 of Set 8 | Parabel'\n",
      "Processing Record 37 of Set 8 | La Santisima Trinidad\n",
      "Processing Record 38 of Set 8 | Nassau\n",
      "Processing Record 39 of Set 8 | Saskylakh\n",
      "Processing Record 40 of Set 8 | Kuruman\n",
      "Processing Record 41 of Set 8 | Kuantan\n",
      "Processing Record 42 of Set 8 | Tingo María\n",
      "Processing Record 43 of Set 8 | Robertsport\n",
      "Processing Record 44 of Set 8 | Härnösand\n",
      "Processing Record 45 of Set 8 | New Baltimore\n",
      "Processing Record 46 of Set 8 | Cayenne\n",
      "Processing Record 0 of Set 9 | Nísia Floresta\n",
      "Processing Record 1 of Set 9 | Shitanjing\n",
      "Processing Record 2 of Set 9 | Presidente Epitácio\n",
      "Processing Record 3 of Set 9 | El Salvador\n",
      "Processing Record 4 of Set 9 | Castlegar\n"
     ]
    },
    {
     "name": "stdout",
     "output_type": "stream",
     "text": [
      "Processing Record 5 of Set 9 | Saint George\n",
      "Processing Record 6 of Set 9 | Valguarnera Caropepe\n",
      "Processing Record 7 of Set 9 | Medicine Hat\n",
      "Processing Record 8 of Set 9 | Zhigansk\n",
      "Processing Record 9 of Set 9 | Chumikan\n",
      "Processing Record 10 of Set 9 | Kilkis\n",
      "Processing Record 11 of Set 9 | Inongo\n",
      "Processing Record 12 of Set 9 | San Juan\n",
      "Processing Record 13 of Set 9 | Umluj\n",
      "Processing Record 14 of Set 9 | Kutum\n",
      "Processing Record 15 of Set 9 | Américo Brasiliense\n",
      "Processing Record 16 of Set 9 | Yulara\n",
      "Processing Record 17 of Set 9 | Granada\n",
      "Processing Record 18 of Set 9 | Sambava\n",
      "City not found. Skipping...\n",
      "City not found. Skipping...\n",
      "Processing Record 19 of Set 9 | Elizabeth City\n",
      "Processing Record 20 of Set 9 | Hofn\n",
      "City not found. Skipping...\n",
      "Processing Record 21 of Set 9 | Celestún\n",
      "Processing Record 22 of Set 9 | Salé\n",
      "Processing Record 23 of Set 9 | Acapulco de Juárez\n",
      "Processing Record 24 of Set 9 | Polovinnoye\n",
      "Processing Record 25 of Set 9 | Kastraki\n",
      "Processing Record 26 of Set 9 | Brewster\n",
      "Processing Record 27 of Set 9 | Sitka\n",
      "Processing Record 28 of Set 9 | Te Anau\n",
      "Processing Record 29 of Set 9 | Almancil\n",
      "Processing Record 30 of Set 9 | Ushumun\n",
      "Processing Record 31 of Set 9 | Alyangula\n",
      "City not found. Skipping...\n",
      "Processing Record 32 of Set 9 | Fukuechō\n",
      "Processing Record 33 of Set 9 | Khomutovo\n",
      "Processing Record 34 of Set 9 | Newport\n",
      "Processing Record 35 of Set 9 | Pevek\n",
      "Processing Record 36 of Set 9 | Pithorāgarh\n",
      "Processing Record 37 of Set 9 | Cascais\n",
      "Processing Record 38 of Set 9 | Benjamin Constant\n",
      "Processing Record 39 of Set 9 | Stornoway\n",
      "Processing Record 40 of Set 9 | Grindavik\n",
      "Processing Record 41 of Set 9 | Ilo\n",
      "Processing Record 42 of Set 9 | Teahupoo\n",
      "Processing Record 43 of Set 9 | Beaupré\n",
      "Processing Record 44 of Set 9 | Komsomolsk-on-Amur\n",
      "Processing Record 45 of Set 9 | Abhā\n",
      "Processing Record 0 of Set 10 | Izhma\n",
      "Processing Record 1 of Set 10 | Maputo\n",
      "Processing Record 2 of Set 10 | Taltal\n",
      "Processing Record 3 of Set 10 | Contramaestre\n",
      "City not found. Skipping...\n",
      "Processing Record 4 of Set 10 | Korla\n",
      "Processing Record 5 of Set 10 | Elmadağ\n",
      "Processing Record 6 of Set 10 | Suoyarvi\n",
      "Processing Record 7 of Set 10 | Palekastro\n",
      "Processing Record 8 of Set 10 | Bilibino\n",
      "Processing Record 9 of Set 10 | Jacmel\n",
      "Processing Record 10 of Set 10 | Los Llanos de Aridane\n",
      "Processing Record 11 of Set 10 | São Félix do Xingu\n",
      "Processing Record 12 of Set 10 | Szydłowiec\n",
      "Processing Record 13 of Set 10 | Hambantota\n",
      "Processing Record 14 of Set 10 | Ambon City\n",
      "Processing Record 15 of Set 10 | Koutiala\n",
      "Processing Record 16 of Set 10 | Daru\n",
      "Processing Record 17 of Set 10 | Bud\n",
      "Processing Record 18 of Set 10 | Koumra\n",
      "Processing Record 19 of Set 10 | Juegang\n",
      "Processing Record 20 of Set 10 | Linfen\n",
      "Processing Record 21 of Set 10 | Westport\n",
      "Processing Record 22 of Set 10 | Vila Velha\n",
      "Processing Record 23 of Set 10 | Morondava\n",
      "Processing Record 24 of Set 10 | Eenhana\n",
      "Processing Record 25 of Set 10 | Agadez\n",
      "Processing Record 26 of Set 10 | Carballo\n",
      "Processing Record 27 of Set 10 | Padang\n",
      "Processing Record 28 of Set 10 | Kemin\n",
      "Processing Record 29 of Set 10 | La Ronge\n",
      "Processing Record 30 of Set 10 | Fergus Falls\n",
      "Processing Record 31 of Set 10 | Eugene\n",
      "Processing Record 32 of Set 10 | Fujimi\n",
      "Processing Record 33 of Set 10 | Zhezkazgan\n",
      "Processing Record 34 of Set 10 | Kuah\n",
      "Processing Record 35 of Set 10 | Alice Springs\n",
      "Processing Record 36 of Set 10 | Lagunas\n",
      "Processing Record 37 of Set 10 | Raudeberg\n",
      "Processing Record 38 of Set 10 | Mayumba\n",
      "City not found. Skipping...\n",
      "Processing Record 39 of Set 10 | Mabaruma\n",
      "Processing Record 40 of Set 10 | Karasburg\n",
      "Processing Record 41 of Set 10 | Stromness\n",
      "Processing Record 42 of Set 10 | Kudahuvadhoo\n",
      "Processing Record 43 of Set 10 | Havøysund\n",
      "Processing Record 44 of Set 10 | Galle\n",
      "Processing Record 45 of Set 10 | Tawang Town\n",
      "City not found. Skipping...\n",
      "Processing Record 46 of Set 10 | Paamiut\n",
      "Processing Record 0 of Set 11 | Puerto Maldonado\n",
      "Processing Record 1 of Set 11 | Dawlatabad\n",
      "Processing Record 2 of Set 11 | Laas\n",
      "Processing Record 3 of Set 11 | Toamasina\n",
      "Processing Record 4 of Set 11 | Fare\n",
      "City not found. Skipping...\n",
      "Processing Record 5 of Set 11 | Chemin Grenier\n",
      "Processing Record 6 of Set 11 | Kem'\n",
      "Processing Record 7 of Set 11 | Sarh\n",
      "Processing Record 8 of Set 11 | Mosjøen\n",
      "Processing Record 9 of Set 11 | Straumen\n",
      "Processing Record 10 of Set 11 | Moroto\n",
      "Processing Record 11 of Set 11 | Pokosnoye\n",
      "Processing Record 12 of Set 11 | Departamento de Maldonado\n",
      "Processing Record 13 of Set 11 | Coro\n",
      "Processing Record 14 of Set 11 | Birao\n",
      "Processing Record 15 of Set 11 | Orlik\n",
      "Processing Record 16 of Set 11 | Harper\n",
      "Processing Record 17 of Set 11 | Minsk\n",
      "Processing Record 18 of Set 11 | Kavaratti\n",
      "Processing Record 19 of Set 11 | Nekhayevskiy\n",
      "Processing Record 20 of Set 11 | Pryyutivka\n",
      "Processing Record 21 of Set 11 | Yar-Sale\n",
      "Processing Record 22 of Set 11 | Jining\n",
      "Processing Record 23 of Set 11 | Krasnoarmeysk\n",
      "City not found. Skipping...\n",
      "Processing Record 24 of Set 11 | Pisco\n",
      "Processing Record 25 of Set 11 | Port-Gentil\n",
      "Processing Record 26 of Set 11 | Yagoua\n",
      "Processing Record 27 of Set 11 | Yārāda\n",
      "Processing Record 28 of Set 11 | Ulaangom\n",
      "Processing Record 29 of Set 11 | Merauke\n",
      "Processing Record 30 of Set 11 | Buckeye\n",
      "Processing Record 31 of Set 11 | Blagoyevo\n",
      "Processing Record 32 of Set 11 | Betsiamites\n",
      "Processing Record 33 of Set 11 | Quelimane\n",
      "City not found. Skipping...\n",
      "Processing Record 34 of Set 11 | San Policarpo\n",
      "Processing Record 35 of Set 11 | Meadow Lake\n",
      "City not found. Skipping...\n",
      "Processing Record 36 of Set 11 | Sokoni\n",
      "Processing Record 37 of Set 11 | Dogbo\n",
      "Processing Record 38 of Set 11 | Shōbara\n",
      "Processing Record 39 of Set 11 | Lorengau\n",
      "Processing Record 40 of Set 11 | La Asuncion\n",
      "Processing Record 41 of Set 11 | Novyye Gorki\n",
      "City not found. Skipping...\n",
      "Processing Record 42 of Set 11 | Wencheng\n",
      "Processing Record 43 of Set 11 | Balclutha\n",
      "Processing Record 44 of Set 11 | Kidal\n",
      "Processing Record 0 of Set 12 | Konëvo\n",
      "Processing Record 1 of Set 12 | Lubumbashi\n",
      "Processing Record 2 of Set 12 | Talaya\n",
      "Processing Record 3 of Set 12 | Pandamatenga\n",
      "Processing Record 4 of Set 12 | Itarema\n",
      "Processing Record 5 of Set 12 | Soyo\n",
      "Processing Record 6 of Set 12 | Santa Cruz de Barahona\n",
      "Processing Record 7 of Set 12 | Gazojak\n",
      "Processing Record 8 of Set 12 | Fairbanks\n",
      "Processing Record 9 of Set 12 | Rudnya\n",
      "Processing Record 10 of Set 12 | Naze\n",
      "City not found. Skipping...\n",
      "City not found. Skipping...\n",
      "City not found. Skipping...\n",
      "Processing Record 11 of Set 12 | Moorhead\n",
      "Processing Record 12 of Set 12 | Wattegama\n",
      "Processing Record 13 of Set 12 | Vanimo\n",
      "Processing Record 14 of Set 12 | San Jose\n",
      "Processing Record 15 of Set 12 | Sisimiut\n",
      "City not found. Skipping...\n",
      "Processing Record 16 of Set 12 | Esim\n",
      "Processing Record 17 of Set 12 | Campo Grande\n",
      "Processing Record 18 of Set 12 | Nador\n",
      "Processing Record 19 of Set 12 | Chlórakas\n",
      "Processing Record 20 of Set 12 | Sovetskiy\n",
      "Processing Record 21 of Set 12 | Tarnów\n",
      "Processing Record 22 of Set 12 | Morón\n",
      "Processing Record 23 of Set 12 | Denpasar\n",
      "Processing Record 24 of Set 12 | Karatuzskoye\n",
      "Processing Record 25 of Set 12 | Kayes\n",
      "Processing Record 26 of Set 12 | Usinsk\n",
      "Processing Record 27 of Set 12 | Manono\n",
      "Processing Record 28 of Set 12 | Dzerzhinsk\n",
      "Processing Record 29 of Set 12 | Bundaberg\n",
      "Processing Record 30 of Set 12 | Huilong\n",
      "City not found. Skipping...\n",
      "Processing Record 31 of Set 12 | Oranjemund\n",
      "City not found. Skipping...\n",
      "Processing Record 32 of Set 12 | Gangānagar\n",
      "Processing Record 33 of Set 12 | Algiers\n",
      "Processing Record 34 of Set 12 | Portland\n",
      "Processing Record 35 of Set 12 | Bontang\n",
      "Processing Record 36 of Set 12 | Road Town\n",
      "Processing Record 37 of Set 12 | Mildura\n",
      "Processing Record 38 of Set 12 | Ramsgate\n",
      "Processing Record 39 of Set 12 | Bonthe\n",
      "Processing Record 40 of Set 12 | Gandorhun\n",
      "Processing Record 41 of Set 12 | Zapolyarnyy\n",
      "Processing Record 42 of Set 12 | Samarai\n",
      "Processing Record 43 of Set 12 | Nerchinskiy Zavod\n",
      "Processing Record 0 of Set 13 | Bose\n",
      "Processing Record 1 of Set 13 | Dakar\n",
      "Processing Record 2 of Set 13 | Barão de Melgaço\n",
      "Processing Record 3 of Set 13 | Mumford\n",
      "Processing Record 4 of Set 13 | Jalu\n",
      "Processing Record 5 of Set 13 | Broken Hill\n",
      "Processing Record 6 of Set 13 | Noyabrsk\n"
     ]
    },
    {
     "name": "stdout",
     "output_type": "stream",
     "text": [
      "Processing Record 7 of Set 13 | Pemangkat\n",
      "Processing Record 8 of Set 13 | Kawalu\n",
      "Processing Record 9 of Set 13 | Emerald\n",
      "Processing Record 10 of Set 13 | Mayya\n",
      "Processing Record 11 of Set 13 | Abu Dhabi\n",
      "Processing Record 12 of Set 13 | Bubaque\n",
      "Processing Record 13 of Set 13 | Poya\n",
      "Processing Record 14 of Set 13 | São João da Barra\n",
      "City not found. Skipping...\n",
      "Processing Record 15 of Set 13 | Camopi\n",
      "Processing Record 16 of Set 13 | Elliot\n",
      "Processing Record 17 of Set 13 | Luganville\n",
      "Processing Record 18 of Set 13 | Kupang\n",
      "Processing Record 19 of Set 13 | Chandigarh\n",
      "City not found. Skipping...\n",
      "Processing Record 20 of Set 13 | ‘Ewa Beach\n",
      "Processing Record 21 of Set 13 | Ulladulla\n",
      "City not found. Skipping...\n",
      "Processing Record 22 of Set 13 | Semey\n",
      "Processing Record 23 of Set 13 | Kilindoni\n",
      "City not found. Skipping...\n",
      "Processing Record 24 of Set 13 | Bay City\n",
      "-------------------------------\n",
      "Data Retrieval Complete\n",
      "-------------------------------\n"
     ]
    }
   ],
   "source": [
    "city_name = []\n",
    "country_name = []\n",
    "date = []\n",
    "latitude = []\n",
    "longitude = []\n",
    "max_temperature = []\n",
    "humidity = []\n",
    "cloudiness = []\n",
    "wind_speed = []\n",
    "processing_record = 1\n",
    "set_count = 1\n",
    "print(f\"Beginning Data Retrieval\")\n",
    "print(f\"-------------------------------\")\n",
    "\n",
    "for i, city in enumerate(cities):\n",
    "    # Group cities in sets of 50 for logging purposes\n",
    "    if (i % 50 == 0 and i >= 50):\n",
    "        set_count += 1\n",
    "        processing_record = 0\n",
    "    #endpoint url\n",
    "    city_url = url + \"&q=\" + city\n",
    "    try:\n",
    "        response = requests.get(query_url + city).json()\n",
    "        city_name.append(response[\"name\"])\n",
    "        city_record = response[\"name\"]\n",
    "        country_name.append(response[\"sys\"][\"country\"])\n",
    "        date.append(response[\"dt\"])\n",
    "        latitude.append(response[\"coord\"][\"lat\"])\n",
    "        longitude.append(response[\"coord\"][\"lon\"])\n",
    "        max_temperature.append(response[\"main\"][\"temp_max\"])\n",
    "        humidity.append(response[\"main\"][\"humidity\"])\n",
    "        cloudiness.append(response[\"clouds\"][\"all\"])\n",
    "        wind_speed.append(response[\"wind\"][\"speed\"])\n",
    "    \n",
    "        \n",
    "        print(f\"Processing Record {processing_record} of Set {set_count} | {city_record}\")\n",
    "\n",
    "        processing_record += 1\n",
    "    except:\n",
    "        print(\"City not found. Skipping...\") \n",
    "    continue\n",
    "# Print Ending Log Statement\n",
    "print(f\"-------------------------------\")\n",
    "print(f\"Data Retrieval Complete\")\n",
    "print(f\"-------------------------------\")"
   ]
  },
  {
   "cell_type": "markdown",
   "metadata": {},
   "source": [
    "### Convert Raw Data to DataFrame\n",
    "* Export the city data into a .csv.\n",
    "* Display the DataFrame"
   ]
  },
  {
   "cell_type": "code",
   "execution_count": 40,
   "metadata": {},
   "outputs": [
    {
     "data": {
      "text/html": [
       "<div>\n",
       "<style scoped>\n",
       "    .dataframe tbody tr th:only-of-type {\n",
       "        vertical-align: middle;\n",
       "    }\n",
       "\n",
       "    .dataframe tbody tr th {\n",
       "        vertical-align: top;\n",
       "    }\n",
       "\n",
       "    .dataframe thead th {\n",
       "        text-align: right;\n",
       "    }\n",
       "</style>\n",
       "<table border=\"1\" class=\"dataframe\">\n",
       "  <thead>\n",
       "    <tr style=\"text-align: right;\">\n",
       "      <th></th>\n",
       "      <th>City</th>\n",
       "      <th>Latitude</th>\n",
       "      <th>Longitude</th>\n",
       "      <th>Max Temperature</th>\n",
       "      <th>Humidity</th>\n",
       "      <th>Cloudiness</th>\n",
       "      <th>Wind Speed</th>\n",
       "      <th>Country</th>\n",
       "      <th>Date</th>\n",
       "    </tr>\n",
       "  </thead>\n",
       "  <tbody>\n",
       "    <tr>\n",
       "      <th>0</th>\n",
       "      <td>Edson</td>\n",
       "      <td>53.5835</td>\n",
       "      <td>-116.4356</td>\n",
       "      <td>59.14</td>\n",
       "      <td>36</td>\n",
       "      <td>1</td>\n",
       "      <td>8.05</td>\n",
       "      <td>CA</td>\n",
       "      <td>1634854598</td>\n",
       "    </tr>\n",
       "    <tr>\n",
       "      <th>1</th>\n",
       "      <td>Guangzhou</td>\n",
       "      <td>23.1167</td>\n",
       "      <td>113.2500</td>\n",
       "      <td>60.94</td>\n",
       "      <td>71</td>\n",
       "      <td>95</td>\n",
       "      <td>12.75</td>\n",
       "      <td>CN</td>\n",
       "      <td>1634854289</td>\n",
       "    </tr>\n",
       "    <tr>\n",
       "      <th>2</th>\n",
       "      <td>Nikolskoye</td>\n",
       "      <td>59.7035</td>\n",
       "      <td>30.7861</td>\n",
       "      <td>53.87</td>\n",
       "      <td>85</td>\n",
       "      <td>100</td>\n",
       "      <td>16.40</td>\n",
       "      <td>RU</td>\n",
       "      <td>1634854598</td>\n",
       "    </tr>\n",
       "    <tr>\n",
       "      <th>3</th>\n",
       "      <td>Havre-St-Pierre</td>\n",
       "      <td>50.2334</td>\n",
       "      <td>-63.5986</td>\n",
       "      <td>50.00</td>\n",
       "      <td>87</td>\n",
       "      <td>1</td>\n",
       "      <td>4.61</td>\n",
       "      <td>CA</td>\n",
       "      <td>1634854598</td>\n",
       "    </tr>\n",
       "    <tr>\n",
       "      <th>4</th>\n",
       "      <td>Kuril'sk</td>\n",
       "      <td>45.2333</td>\n",
       "      <td>147.8833</td>\n",
       "      <td>41.11</td>\n",
       "      <td>84</td>\n",
       "      <td>100</td>\n",
       "      <td>4.29</td>\n",
       "      <td>RU</td>\n",
       "      <td>1634854599</td>\n",
       "    </tr>\n",
       "    <tr>\n",
       "      <th>...</th>\n",
       "      <td>...</td>\n",
       "      <td>...</td>\n",
       "      <td>...</td>\n",
       "      <td>...</td>\n",
       "      <td>...</td>\n",
       "      <td>...</td>\n",
       "      <td>...</td>\n",
       "      <td>...</td>\n",
       "      <td>...</td>\n",
       "    </tr>\n",
       "    <tr>\n",
       "      <th>570</th>\n",
       "      <td>‘Ewa Beach</td>\n",
       "      <td>21.3156</td>\n",
       "      <td>-158.0072</td>\n",
       "      <td>84.15</td>\n",
       "      <td>62</td>\n",
       "      <td>75</td>\n",
       "      <td>10.00</td>\n",
       "      <td>US</td>\n",
       "      <td>1634854787</td>\n",
       "    </tr>\n",
       "    <tr>\n",
       "      <th>571</th>\n",
       "      <td>Ulladulla</td>\n",
       "      <td>-35.3500</td>\n",
       "      <td>150.4667</td>\n",
       "      <td>66.09</td>\n",
       "      <td>84</td>\n",
       "      <td>32</td>\n",
       "      <td>2.15</td>\n",
       "      <td>AU</td>\n",
       "      <td>1634854788</td>\n",
       "    </tr>\n",
       "    <tr>\n",
       "      <th>572</th>\n",
       "      <td>Semey</td>\n",
       "      <td>50.4111</td>\n",
       "      <td>80.2275</td>\n",
       "      <td>43.86</td>\n",
       "      <td>83</td>\n",
       "      <td>100</td>\n",
       "      <td>16.55</td>\n",
       "      <td>KZ</td>\n",
       "      <td>1634854789</td>\n",
       "    </tr>\n",
       "    <tr>\n",
       "      <th>573</th>\n",
       "      <td>Kilindoni</td>\n",
       "      <td>-7.9139</td>\n",
       "      <td>39.6668</td>\n",
       "      <td>77.50</td>\n",
       "      <td>77</td>\n",
       "      <td>19</td>\n",
       "      <td>12.08</td>\n",
       "      <td>TZ</td>\n",
       "      <td>1634854789</td>\n",
       "    </tr>\n",
       "    <tr>\n",
       "      <th>574</th>\n",
       "      <td>Bay City</td>\n",
       "      <td>43.5945</td>\n",
       "      <td>-83.8889</td>\n",
       "      <td>54.64</td>\n",
       "      <td>93</td>\n",
       "      <td>90</td>\n",
       "      <td>18.41</td>\n",
       "      <td>US</td>\n",
       "      <td>1634854707</td>\n",
       "    </tr>\n",
       "  </tbody>\n",
       "</table>\n",
       "<p>575 rows × 9 columns</p>\n",
       "</div>"
      ],
      "text/plain": [
       "                City  Latitude  Longitude  Max Temperature  Humidity  \\\n",
       "0              Edson   53.5835  -116.4356            59.14        36   \n",
       "1          Guangzhou   23.1167   113.2500            60.94        71   \n",
       "2         Nikolskoye   59.7035    30.7861            53.87        85   \n",
       "3    Havre-St-Pierre   50.2334   -63.5986            50.00        87   \n",
       "4           Kuril'sk   45.2333   147.8833            41.11        84   \n",
       "..               ...       ...        ...              ...       ...   \n",
       "570       ‘Ewa Beach   21.3156  -158.0072            84.15        62   \n",
       "571        Ulladulla  -35.3500   150.4667            66.09        84   \n",
       "572            Semey   50.4111    80.2275            43.86        83   \n",
       "573        Kilindoni   -7.9139    39.6668            77.50        77   \n",
       "574         Bay City   43.5945   -83.8889            54.64        93   \n",
       "\n",
       "     Cloudiness  Wind Speed Country        Date  \n",
       "0             1        8.05      CA  1634854598  \n",
       "1            95       12.75      CN  1634854289  \n",
       "2           100       16.40      RU  1634854598  \n",
       "3             1        4.61      CA  1634854598  \n",
       "4           100        4.29      RU  1634854599  \n",
       "..          ...         ...     ...         ...  \n",
       "570          75       10.00      US  1634854787  \n",
       "571          32        2.15      AU  1634854788  \n",
       "572         100       16.55      KZ  1634854789  \n",
       "573          19       12.08      TZ  1634854789  \n",
       "574          90       18.41      US  1634854707  \n",
       "\n",
       "[575 rows x 9 columns]"
      ]
     },
     "execution_count": 40,
     "metadata": {},
     "output_type": "execute_result"
    }
   ],
   "source": [
    "#df for city, lat, lng, max temp, humidity, cloudiness, wind speed, country, and date\n",
    "#go back and add all of those to your loop and make empty lists for them \n",
    "#create dictionary \n",
    "df_1= pd.DataFrame({\n",
    "    \"City\": city_name,\n",
    "    \"Latitude\": latitude,\n",
    "    \"Longitude\": longitude,\n",
    "    \"Max Temperature\": max_temperature,\n",
    "    \"Humidity\": humidity,\n",
    "    \"Cloudiness\": cloudiness,\n",
    "    \"Wind Speed\": wind_speed,\n",
    "    \"Country\": country_name,\n",
    "    \"Date\": date\n",
    "})\n",
    "#drop skipped rows \n",
    "df_1 = df_1.dropna(how=\"any\")\n",
    "\n",
    "df_1\n",
    "\n",
    "#hopefully will work when API key works again "
   ]
  },
  {
   "cell_type": "code",
   "execution_count": 41,
   "metadata": {},
   "outputs": [],
   "source": [
    "df_1.to_csv(\"./output_data/cities.csv\", index=False)"
   ]
  },
  {
   "cell_type": "code",
   "execution_count": 42,
   "metadata": {
    "scrolled": false
   },
   "outputs": [
    {
     "data": {
      "text/html": [
       "<div>\n",
       "<style scoped>\n",
       "    .dataframe tbody tr th:only-of-type {\n",
       "        vertical-align: middle;\n",
       "    }\n",
       "\n",
       "    .dataframe tbody tr th {\n",
       "        vertical-align: top;\n",
       "    }\n",
       "\n",
       "    .dataframe thead th {\n",
       "        text-align: right;\n",
       "    }\n",
       "</style>\n",
       "<table border=\"1\" class=\"dataframe\">\n",
       "  <thead>\n",
       "    <tr style=\"text-align: right;\">\n",
       "      <th></th>\n",
       "      <th>City</th>\n",
       "      <th>Latitude</th>\n",
       "      <th>Longitude</th>\n",
       "      <th>Max Temperature</th>\n",
       "      <th>Humidity</th>\n",
       "      <th>Cloudiness</th>\n",
       "      <th>Wind Speed</th>\n",
       "      <th>Country</th>\n",
       "      <th>Date</th>\n",
       "    </tr>\n",
       "  </thead>\n",
       "  <tbody>\n",
       "    <tr>\n",
       "      <th>0</th>\n",
       "      <td>Edson</td>\n",
       "      <td>53.5835</td>\n",
       "      <td>-116.4356</td>\n",
       "      <td>59.14</td>\n",
       "      <td>36</td>\n",
       "      <td>1</td>\n",
       "      <td>8.05</td>\n",
       "      <td>CA</td>\n",
       "      <td>1634854598</td>\n",
       "    </tr>\n",
       "    <tr>\n",
       "      <th>1</th>\n",
       "      <td>Guangzhou</td>\n",
       "      <td>23.1167</td>\n",
       "      <td>113.2500</td>\n",
       "      <td>60.94</td>\n",
       "      <td>71</td>\n",
       "      <td>95</td>\n",
       "      <td>12.75</td>\n",
       "      <td>CN</td>\n",
       "      <td>1634854289</td>\n",
       "    </tr>\n",
       "    <tr>\n",
       "      <th>2</th>\n",
       "      <td>Nikolskoye</td>\n",
       "      <td>59.7035</td>\n",
       "      <td>30.7861</td>\n",
       "      <td>53.87</td>\n",
       "      <td>85</td>\n",
       "      <td>100</td>\n",
       "      <td>16.40</td>\n",
       "      <td>RU</td>\n",
       "      <td>1634854598</td>\n",
       "    </tr>\n",
       "    <tr>\n",
       "      <th>3</th>\n",
       "      <td>Havre-St-Pierre</td>\n",
       "      <td>50.2334</td>\n",
       "      <td>-63.5986</td>\n",
       "      <td>50.00</td>\n",
       "      <td>87</td>\n",
       "      <td>1</td>\n",
       "      <td>4.61</td>\n",
       "      <td>CA</td>\n",
       "      <td>1634854598</td>\n",
       "    </tr>\n",
       "    <tr>\n",
       "      <th>4</th>\n",
       "      <td>Kuril'sk</td>\n",
       "      <td>45.2333</td>\n",
       "      <td>147.8833</td>\n",
       "      <td>41.11</td>\n",
       "      <td>84</td>\n",
       "      <td>100</td>\n",
       "      <td>4.29</td>\n",
       "      <td>RU</td>\n",
       "      <td>1634854599</td>\n",
       "    </tr>\n",
       "  </tbody>\n",
       "</table>\n",
       "</div>"
      ],
      "text/plain": [
       "              City  Latitude  Longitude  Max Temperature  Humidity  \\\n",
       "0            Edson   53.5835  -116.4356            59.14        36   \n",
       "1        Guangzhou   23.1167   113.2500            60.94        71   \n",
       "2       Nikolskoye   59.7035    30.7861            53.87        85   \n",
       "3  Havre-St-Pierre   50.2334   -63.5986            50.00        87   \n",
       "4         Kuril'sk   45.2333   147.8833            41.11        84   \n",
       "\n",
       "   Cloudiness  Wind Speed Country        Date  \n",
       "0           1        8.05      CA  1634854598  \n",
       "1          95       12.75      CN  1634854289  \n",
       "2         100       16.40      RU  1634854598  \n",
       "3           1        4.61      CA  1634854598  \n",
       "4         100        4.29      RU  1634854599  "
      ]
     },
     "execution_count": 42,
     "metadata": {},
     "output_type": "execute_result"
    }
   ],
   "source": [
    "df_1.head()"
   ]
  },
  {
   "cell_type": "code",
   "execution_count": 43,
   "metadata": {},
   "outputs": [],
   "source": [
    "#create statistic summary table for data \n",
    "lat_stat= df_1[\"Latitude\"].describe()\n",
    "long_stat= df_1[\"Longitude\"].describe()\n",
    "max_stat=df_1[\"Max Temperature\"].describe()\n",
    "humid_stat= df_1[\"Humidity\"].describe()\n",
    "cloud_stat= df_1[\"Cloudiness\"].describe()\n",
    "wind_stat= df_1[\"Wind Speed\"].describe()\n",
    "date_stat= df_1[\"Date\"].describe()"
   ]
  },
  {
   "cell_type": "code",
   "execution_count": 44,
   "metadata": {
    "scrolled": false
   },
   "outputs": [
    {
     "data": {
      "text/html": [
       "<div>\n",
       "<style scoped>\n",
       "    .dataframe tbody tr th:only-of-type {\n",
       "        vertical-align: middle;\n",
       "    }\n",
       "\n",
       "    .dataframe tbody tr th {\n",
       "        vertical-align: top;\n",
       "    }\n",
       "\n",
       "    .dataframe thead th {\n",
       "        text-align: right;\n",
       "    }\n",
       "</style>\n",
       "<table border=\"1\" class=\"dataframe\">\n",
       "  <thead>\n",
       "    <tr style=\"text-align: right;\">\n",
       "      <th></th>\n",
       "      <th>Lat</th>\n",
       "      <th>Lng</th>\n",
       "      <th>Max Temp</th>\n",
       "      <th>Humidity</th>\n",
       "      <th>Cloudiness</th>\n",
       "      <th>Wind Speed</th>\n",
       "      <th>Date</th>\n",
       "    </tr>\n",
       "  </thead>\n",
       "  <tbody>\n",
       "    <tr>\n",
       "      <th>count</th>\n",
       "      <td>575.000000</td>\n",
       "      <td>575.000000</td>\n",
       "      <td>575.000000</td>\n",
       "      <td>575.000000</td>\n",
       "      <td>575.000000</td>\n",
       "      <td>575.000000</td>\n",
       "      <td>5.750000e+02</td>\n",
       "    </tr>\n",
       "    <tr>\n",
       "      <th>mean</th>\n",
       "      <td>20.937844</td>\n",
       "      <td>22.657516</td>\n",
       "      <td>60.017130</td>\n",
       "      <td>72.953043</td>\n",
       "      <td>57.906087</td>\n",
       "      <td>7.873304</td>\n",
       "      <td>1.634855e+09</td>\n",
       "    </tr>\n",
       "    <tr>\n",
       "      <th>std</th>\n",
       "      <td>33.325943</td>\n",
       "      <td>88.649759</td>\n",
       "      <td>20.886533</td>\n",
       "      <td>18.947099</td>\n",
       "      <td>38.721622</td>\n",
       "      <td>5.736367</td>\n",
       "      <td>8.436573e+01</td>\n",
       "    </tr>\n",
       "    <tr>\n",
       "      <th>min</th>\n",
       "      <td>-54.800000</td>\n",
       "      <td>-175.200000</td>\n",
       "      <td>-17.520000</td>\n",
       "      <td>14.000000</td>\n",
       "      <td>0.000000</td>\n",
       "      <td>0.000000</td>\n",
       "      <td>1.634854e+09</td>\n",
       "    </tr>\n",
       "    <tr>\n",
       "      <th>25%</th>\n",
       "      <td>-7.574200</td>\n",
       "      <td>-53.740200</td>\n",
       "      <td>47.590000</td>\n",
       "      <td>63.000000</td>\n",
       "      <td>20.000000</td>\n",
       "      <td>3.645000</td>\n",
       "      <td>1.634855e+09</td>\n",
       "    </tr>\n",
       "    <tr>\n",
       "      <th>50%</th>\n",
       "      <td>23.623300</td>\n",
       "      <td>25.570100</td>\n",
       "      <td>64.740000</td>\n",
       "      <td>77.000000</td>\n",
       "      <td>72.000000</td>\n",
       "      <td>6.600000</td>\n",
       "      <td>1.634855e+09</td>\n",
       "    </tr>\n",
       "    <tr>\n",
       "      <th>75%</th>\n",
       "      <td>49.997450</td>\n",
       "      <td>102.382750</td>\n",
       "      <td>77.140000</td>\n",
       "      <td>87.000000</td>\n",
       "      <td>98.000000</td>\n",
       "      <td>10.360000</td>\n",
       "      <td>1.634855e+09</td>\n",
       "    </tr>\n",
       "    <tr>\n",
       "      <th>max</th>\n",
       "      <td>78.218600</td>\n",
       "      <td>179.316700</td>\n",
       "      <td>97.320000</td>\n",
       "      <td>100.000000</td>\n",
       "      <td>100.000000</td>\n",
       "      <td>39.010000</td>\n",
       "      <td>1.634855e+09</td>\n",
       "    </tr>\n",
       "  </tbody>\n",
       "</table>\n",
       "</div>"
      ],
      "text/plain": [
       "              Lat         Lng    Max Temp    Humidity  Cloudiness  Wind Speed  \\\n",
       "count  575.000000  575.000000  575.000000  575.000000  575.000000  575.000000   \n",
       "mean    20.937844   22.657516   60.017130   72.953043   57.906087    7.873304   \n",
       "std     33.325943   88.649759   20.886533   18.947099   38.721622    5.736367   \n",
       "min    -54.800000 -175.200000  -17.520000   14.000000    0.000000    0.000000   \n",
       "25%     -7.574200  -53.740200   47.590000   63.000000   20.000000    3.645000   \n",
       "50%     23.623300   25.570100   64.740000   77.000000   72.000000    6.600000   \n",
       "75%     49.997450  102.382750   77.140000   87.000000   98.000000   10.360000   \n",
       "max     78.218600  179.316700   97.320000  100.000000  100.000000   39.010000   \n",
       "\n",
       "               Date  \n",
       "count  5.750000e+02  \n",
       "mean   1.634855e+09  \n",
       "std    8.436573e+01  \n",
       "min    1.634854e+09  \n",
       "25%    1.634855e+09  \n",
       "50%    1.634855e+09  \n",
       "75%    1.634855e+09  \n",
       "max    1.634855e+09  "
      ]
     },
     "execution_count": 44,
     "metadata": {},
     "output_type": "execute_result"
    }
   ],
   "source": [
    "df_2= pd.DataFrame({\n",
    "    \"Lat\":lat_stat,\n",
    "    \"Lng\": long_stat,\n",
    "    \"Max Temp\": max_stat,\n",
    "    \"Humidity\": humid_stat,\n",
    "    \"Cloudiness\": cloud_stat,\n",
    "    \"Wind Speed\": wind_stat,\n",
    "    \"Date\": date_stat\n",
    "})\n",
    "df_2"
   ]
  },
  {
   "cell_type": "markdown",
   "metadata": {},
   "source": [
    "## Inspect the data and remove the cities where the humidity > 100%.\n",
    "----\n",
    "Skip this step if there are no cities that have humidity > 100%. "
   ]
  },
  {
   "cell_type": "code",
   "execution_count": 45,
   "metadata": {
    "scrolled": false
   },
   "outputs": [
    {
     "data": {
      "text/html": [
       "<div>\n",
       "<style scoped>\n",
       "    .dataframe tbody tr th:only-of-type {\n",
       "        vertical-align: middle;\n",
       "    }\n",
       "\n",
       "    .dataframe tbody tr th {\n",
       "        vertical-align: top;\n",
       "    }\n",
       "\n",
       "    .dataframe thead th {\n",
       "        text-align: right;\n",
       "    }\n",
       "</style>\n",
       "<table border=\"1\" class=\"dataframe\">\n",
       "  <thead>\n",
       "    <tr style=\"text-align: right;\">\n",
       "      <th></th>\n",
       "      <th>Lat</th>\n",
       "      <th>Lng</th>\n",
       "      <th>Max Temp</th>\n",
       "      <th>Humidity</th>\n",
       "      <th>Cloudiness</th>\n",
       "      <th>Wind Speed</th>\n",
       "      <th>Date</th>\n",
       "    </tr>\n",
       "  </thead>\n",
       "  <tbody>\n",
       "    <tr>\n",
       "      <th>count</th>\n",
       "      <td>575.000000</td>\n",
       "      <td>575.000000</td>\n",
       "      <td>575.000000</td>\n",
       "      <td>575.000000</td>\n",
       "      <td>575.000000</td>\n",
       "      <td>575.000000</td>\n",
       "      <td>5.750000e+02</td>\n",
       "    </tr>\n",
       "    <tr>\n",
       "      <th>mean</th>\n",
       "      <td>20.937844</td>\n",
       "      <td>22.657516</td>\n",
       "      <td>60.017130</td>\n",
       "      <td>72.953043</td>\n",
       "      <td>57.906087</td>\n",
       "      <td>7.873304</td>\n",
       "      <td>1.634855e+09</td>\n",
       "    </tr>\n",
       "    <tr>\n",
       "      <th>std</th>\n",
       "      <td>33.325943</td>\n",
       "      <td>88.649759</td>\n",
       "      <td>20.886533</td>\n",
       "      <td>18.947099</td>\n",
       "      <td>38.721622</td>\n",
       "      <td>5.736367</td>\n",
       "      <td>8.436573e+01</td>\n",
       "    </tr>\n",
       "    <tr>\n",
       "      <th>min</th>\n",
       "      <td>-54.800000</td>\n",
       "      <td>-175.200000</td>\n",
       "      <td>-17.520000</td>\n",
       "      <td>14.000000</td>\n",
       "      <td>0.000000</td>\n",
       "      <td>0.000000</td>\n",
       "      <td>1.634854e+09</td>\n",
       "    </tr>\n",
       "    <tr>\n",
       "      <th>25%</th>\n",
       "      <td>-7.574200</td>\n",
       "      <td>-53.740200</td>\n",
       "      <td>47.590000</td>\n",
       "      <td>63.000000</td>\n",
       "      <td>20.000000</td>\n",
       "      <td>3.645000</td>\n",
       "      <td>1.634855e+09</td>\n",
       "    </tr>\n",
       "    <tr>\n",
       "      <th>50%</th>\n",
       "      <td>23.623300</td>\n",
       "      <td>25.570100</td>\n",
       "      <td>64.740000</td>\n",
       "      <td>77.000000</td>\n",
       "      <td>72.000000</td>\n",
       "      <td>6.600000</td>\n",
       "      <td>1.634855e+09</td>\n",
       "    </tr>\n",
       "    <tr>\n",
       "      <th>75%</th>\n",
       "      <td>49.997450</td>\n",
       "      <td>102.382750</td>\n",
       "      <td>77.140000</td>\n",
       "      <td>87.000000</td>\n",
       "      <td>98.000000</td>\n",
       "      <td>10.360000</td>\n",
       "      <td>1.634855e+09</td>\n",
       "    </tr>\n",
       "    <tr>\n",
       "      <th>max</th>\n",
       "      <td>78.218600</td>\n",
       "      <td>179.316700</td>\n",
       "      <td>97.320000</td>\n",
       "      <td>100.000000</td>\n",
       "      <td>100.000000</td>\n",
       "      <td>39.010000</td>\n",
       "      <td>1.634855e+09</td>\n",
       "    </tr>\n",
       "  </tbody>\n",
       "</table>\n",
       "</div>"
      ],
      "text/plain": [
       "              Lat         Lng    Max Temp    Humidity  Cloudiness  Wind Speed  \\\n",
       "count  575.000000  575.000000  575.000000  575.000000  575.000000  575.000000   \n",
       "mean    20.937844   22.657516   60.017130   72.953043   57.906087    7.873304   \n",
       "std     33.325943   88.649759   20.886533   18.947099   38.721622    5.736367   \n",
       "min    -54.800000 -175.200000  -17.520000   14.000000    0.000000    0.000000   \n",
       "25%     -7.574200  -53.740200   47.590000   63.000000   20.000000    3.645000   \n",
       "50%     23.623300   25.570100   64.740000   77.000000   72.000000    6.600000   \n",
       "75%     49.997450  102.382750   77.140000   87.000000   98.000000   10.360000   \n",
       "max     78.218600  179.316700   97.320000  100.000000  100.000000   39.010000   \n",
       "\n",
       "               Date  \n",
       "count  5.750000e+02  \n",
       "mean   1.634855e+09  \n",
       "std    8.436573e+01  \n",
       "min    1.634854e+09  \n",
       "25%    1.634855e+09  \n",
       "50%    1.634855e+09  \n",
       "75%    1.634855e+09  \n",
       "max    1.634855e+09  "
      ]
     },
     "execution_count": 45,
     "metadata": {},
     "output_type": "execute_result"
    }
   ],
   "source": [
    "df_2"
   ]
  },
  {
   "cell_type": "code",
   "execution_count": 46,
   "metadata": {
    "scrolled": true
   },
   "outputs": [
    {
     "name": "stdout",
     "output_type": "stream",
     "text": [
      "There are no cities in this dataframe that have a humidity level of over 100%\n"
     ]
    }
   ],
   "source": [
    "#  Get the indices of cities that have humidity over 100%.\n",
    "humidity = df_1[(df_1[\"Humidity\"] > 100)].index\n",
    "print(\"There are no cities in this dataframe that have a humidity level of over 100%\")"
   ]
  },
  {
   "cell_type": "code",
   "execution_count": 47,
   "metadata": {
    "scrolled": false
   },
   "outputs": [
    {
     "data": {
      "text/plain": [
       "575"
      ]
     },
     "execution_count": 47,
     "metadata": {},
     "output_type": "execute_result"
    }
   ],
   "source": [
    "len(df_1)"
   ]
  },
  {
   "cell_type": "markdown",
   "metadata": {},
   "source": [
    "## Plotting the Data\n",
    "* Use proper labeling of the plots using plot titles (including date of analysis) and axes labels.\n",
    "* Save the plotted figures as .pngs."
   ]
  },
  {
   "cell_type": "markdown",
   "metadata": {},
   "source": [
    "## Latitude vs. Temperature Plot"
   ]
  },
  {
   "cell_type": "code",
   "execution_count": 48,
   "metadata": {},
   "outputs": [
    {
     "data": {
      "image/png": "[encoded data removed]",
      "text/plain": [
       "<Figure size 720x720 with 1 Axes>"
      ]
     },
     "metadata": {
      "needs_background": "light"
     },
     "output_type": "display_data"
    }
   ],
   "source": [
    "date = datetime.date(datetime.now())\n",
    "#x and y values \n",
    "x_values1 = df_1[\"Latitude\"]\n",
    "y_values1 = df_1[\"Max Temperature\"]\n",
    "#plotting\n",
    "fig1, ax1 = plt.subplots(figsize=(10,10))\n",
    "\n",
    "#adding titles etc\n",
    "plt.title(f\"City Latitude vs Max Temperature {date}\")\n",
    "plt.xlabel(\"Latitude\")\n",
    "plt.ylabel(\"Max Temperature (F)\")\n",
    "plt.grid()\n",
    "plt.scatter(x_values1, y_values1, edgecolor=\"purple\", linewidth=1, marker=\"*\", alpha=1)\n",
    "plt.savefig(\"Images/City Latitude vs. Max Temperature.png\")\n",
    "plt.show()"
   ]
  },
  {
   "cell_type": "markdown",
   "metadata": {},
   "source": [
    "## Latitude vs. Humidity Plot"
   ]
  },
  {
   "cell_type": "code",
   "execution_count": 49,
   "metadata": {
    "scrolled": true
   },
   "outputs": [
    {
     "data": {
      "image/png": "[encoded data removed]",
      "text/plain": [
       "<Figure size 720x720 with 1 Axes>"
      ]
     },
     "metadata": {
      "needs_background": "light"
     },
     "output_type": "display_data"
    }
   ],
   "source": [
    "#repeat but change values\n",
    "x_values2 = df_1[\"Latitude\"]\n",
    "y_values2 = df_1[\"Humidity\"]\n",
    "#plot\n",
    "fig1, ax1 = plt.subplots(figsize=(10, 10))\n",
    "plt.scatter(x_values2, y_values2, edgecolor=\"purple\", linewidth=1, marker=\"*\", alpha=1)\n",
    "\n",
    "#add title etc\n",
    "plt.xlabel(\"Latitude\")\n",
    "plt.ylabel(\"Humidity (%)\")\n",
    "plt.title(f\"City Latitude vs Humidity {date}\")\n",
    "plt.grid()\n",
    "plt.savefig(\"Images/City Latitude vs. Humidity.png\")\n",
    "plt.show()"
   ]
  },
  {
   "cell_type": "markdown",
   "metadata": {},
   "source": [
    "## Latitude vs. Cloudiness Plot"
   ]
  },
  {
   "cell_type": "code",
   "execution_count": 50,
   "metadata": {},
   "outputs": [
    {
     "data": {
      "image/png": "[encoded data removed]",
      "text/plain": [
       "<Figure size 720x720 with 1 Axes>"
      ]
     },
     "metadata": {
      "needs_background": "light"
     },
     "output_type": "display_data"
    }
   ],
   "source": [
    "#repeat change variables \n",
    "x_values3 = df_1[\"Latitude\"]\n",
    "y_values3 = df_1[\"Cloudiness\"]\n",
    "#plot \n",
    "fig1, ax1 = plt.subplots(figsize=(10,10))\n",
    "plt.scatter(x_values3, y_values3, edgecolor=\"purple\", linewidth=1, marker=\"*\", alpha=1)\n",
    "\n",
    "\n",
    "#add title etc\n",
    "plt.title(f\"City Latitude vs Cloudiness {date}\")\n",
    "plt.xlabel(\"Latitude\")\n",
    "plt.ylabel(\"Cloudiness (%)\")\n",
    "plt.grid()\n",
    "plt.savefig(\"Images/City Latitude vs. Cloudiness.png\")\n",
    "\n",
    "plt.show()"
   ]
  },
  {
   "cell_type": "markdown",
   "metadata": {},
   "source": [
    "## Latitude vs. Wind Speed Plot"
   ]
  },
  {
   "cell_type": "code",
   "execution_count": 51,
   "metadata": {},
   "outputs": [
    {
     "data": {
      "image/png": "[encoded data removed]",
      "text/plain": [
       "<Figure size 720x720 with 1 Axes>"
      ]
     },
     "metadata": {
      "needs_background": "light"
     },
     "output_type": "display_data"
    }
   ],
   "source": [
    "x_values4 = df_1[\"Latitude\"]\n",
    "y_values4 = df_1[\"Wind Speed\"]\n",
    "#Plot\n",
    "fig1, ax1 = plt.subplots(figsize=(10,10))\n",
    "plt.scatter(x_values4, y_values4, edgecolor=\"purple\", linewidth=1, marker=\"*\", alpha=1)\n",
    "#Add title etc\n",
    "plt.title(f\"City Latitude vs Wind Speed {date}\")\n",
    "plt.xlabel(\"Latitude\")\n",
    "plt.ylabel(\"Wind Speed (mph)\")\n",
    "plt.grid()\n",
    "plt.savefig(\"Images/City Latitude vs. Wind Speed.png\")\n",
    "plt.show()"
   ]
  },
  {
   "cell_type": "markdown",
   "metadata": {},
   "source": [
    "## Linear Regression"
   ]
  },
  {
   "cell_type": "code",
   "execution_count": 52,
   "metadata": {},
   "outputs": [],
   "source": [
    "#dataframe for northen hemisphere and southern hemisphere\n",
    "north_df=df_1.loc[df_1['Latitude']>=0,['Latitude','Max Temperature','Humidity','Cloudiness','Wind Speed']].copy()\n",
    "south_df=df_1.loc[df_1['Latitude']<0,['Latitude','Max Temperature','Humidity','Cloudiness','Wind Speed']].copy()\n",
    "\n",
    "def regression (x_values, y_values,y_label,plt_title, x,y):\n",
    "    (slope, intercept, rvalue, pvalue, stderr) = linregress(x_values, y_values)\n",
    "    regress_values = x_values * slope + intercept\n",
    "    line_eq = \"y = \" + str(round(slope,2)) + \"x + \" + str(round(intercept,2))\n",
    "    plt.scatter(x_values,y_values)\n",
    "    plt.plot(x_values,regress_values,\"r-\")\n",
    "    plt.annotate(line_eq,(x,y),fontsize=15,color=\"red\")\n",
    "    print(f\"The r-squared is: {rvalue**2:.4f}\")\n",
    "    plt.xlabel(\"Latitude\")\n",
    "    plt.ylabel(y_label)\n",
    "    plt.title(plt_title)\n",
    "    plt.show()"
   ]
  },
  {
   "cell_type": "code",
   "execution_count": 53,
   "metadata": {},
   "outputs": [],
   "source": [
    "# > 0 is Northern hemisphere, and < 0 is Southern.\n",
    "northern = df_1.loc[(df_1[\"Latitude\"] >= 0)]\n",
    "southern = df_1.loc[(df_1[\"Latitude\"] < 0)]"
   ]
  },
  {
   "cell_type": "code",
   "execution_count": 54,
   "metadata": {
    "scrolled": true
   },
   "outputs": [],
   "source": [
    "# > 0 is Northern hemisphere, and < 0 is Southern.\n",
    "northern = df_1.loc[(df_1[\"Latitude\"] >= 0)]\n",
    "southern = df_1.loc[(df_1[\"Latitude\"] < 0)]"
   ]
  },
  {
   "cell_type": "code",
   "execution_count": 55,
   "metadata": {
    "scrolled": true
   },
   "outputs": [
    {
     "data": {
      "text/html": [
       "<div>\n",
       "<style scoped>\n",
       "    .dataframe tbody tr th:only-of-type {\n",
       "        vertical-align: middle;\n",
       "    }\n",
       "\n",
       "    .dataframe tbody tr th {\n",
       "        vertical-align: top;\n",
       "    }\n",
       "\n",
       "    .dataframe thead th {\n",
       "        text-align: right;\n",
       "    }\n",
       "</style>\n",
       "<table border=\"1\" class=\"dataframe\">\n",
       "  <thead>\n",
       "    <tr style=\"text-align: right;\">\n",
       "      <th></th>\n",
       "      <th>City</th>\n",
       "      <th>Latitude</th>\n",
       "      <th>Longitude</th>\n",
       "      <th>Max Temperature</th>\n",
       "      <th>Humidity</th>\n",
       "      <th>Cloudiness</th>\n",
       "      <th>Wind Speed</th>\n",
       "      <th>Country</th>\n",
       "      <th>Date</th>\n",
       "    </tr>\n",
       "  </thead>\n",
       "  <tbody>\n",
       "    <tr>\n",
       "      <th>0</th>\n",
       "      <td>Edson</td>\n",
       "      <td>53.5835</td>\n",
       "      <td>-116.4356</td>\n",
       "      <td>59.14</td>\n",
       "      <td>36</td>\n",
       "      <td>1</td>\n",
       "      <td>8.05</td>\n",
       "      <td>CA</td>\n",
       "      <td>1634854598</td>\n",
       "    </tr>\n",
       "    <tr>\n",
       "      <th>1</th>\n",
       "      <td>Guangzhou</td>\n",
       "      <td>23.1167</td>\n",
       "      <td>113.2500</td>\n",
       "      <td>60.94</td>\n",
       "      <td>71</td>\n",
       "      <td>95</td>\n",
       "      <td>12.75</td>\n",
       "      <td>CN</td>\n",
       "      <td>1634854289</td>\n",
       "    </tr>\n",
       "    <tr>\n",
       "      <th>2</th>\n",
       "      <td>Nikolskoye</td>\n",
       "      <td>59.7035</td>\n",
       "      <td>30.7861</td>\n",
       "      <td>53.87</td>\n",
       "      <td>85</td>\n",
       "      <td>100</td>\n",
       "      <td>16.40</td>\n",
       "      <td>RU</td>\n",
       "      <td>1634854598</td>\n",
       "    </tr>\n",
       "    <tr>\n",
       "      <th>3</th>\n",
       "      <td>Havre-St-Pierre</td>\n",
       "      <td>50.2334</td>\n",
       "      <td>-63.5986</td>\n",
       "      <td>50.00</td>\n",
       "      <td>87</td>\n",
       "      <td>1</td>\n",
       "      <td>4.61</td>\n",
       "      <td>CA</td>\n",
       "      <td>1634854598</td>\n",
       "    </tr>\n",
       "    <tr>\n",
       "      <th>4</th>\n",
       "      <td>Kuril'sk</td>\n",
       "      <td>45.2333</td>\n",
       "      <td>147.8833</td>\n",
       "      <td>41.11</td>\n",
       "      <td>84</td>\n",
       "      <td>100</td>\n",
       "      <td>4.29</td>\n",
       "      <td>RU</td>\n",
       "      <td>1634854599</td>\n",
       "    </tr>\n",
       "    <tr>\n",
       "      <th>...</th>\n",
       "      <td>...</td>\n",
       "      <td>...</td>\n",
       "      <td>...</td>\n",
       "      <td>...</td>\n",
       "      <td>...</td>\n",
       "      <td>...</td>\n",
       "      <td>...</td>\n",
       "      <td>...</td>\n",
       "      <td>...</td>\n",
       "    </tr>\n",
       "    <tr>\n",
       "      <th>565</th>\n",
       "      <td>Camopi</td>\n",
       "      <td>3.1655</td>\n",
       "      <td>-52.3158</td>\n",
       "      <td>79.23</td>\n",
       "      <td>71</td>\n",
       "      <td>72</td>\n",
       "      <td>3.89</td>\n",
       "      <td>GF</td>\n",
       "      <td>1634854785</td>\n",
       "    </tr>\n",
       "    <tr>\n",
       "      <th>569</th>\n",
       "      <td>Chandigarh</td>\n",
       "      <td>30.7343</td>\n",
       "      <td>76.7933</td>\n",
       "      <td>67.46</td>\n",
       "      <td>40</td>\n",
       "      <td>0</td>\n",
       "      <td>3.87</td>\n",
       "      <td>IN</td>\n",
       "      <td>1634854787</td>\n",
       "    </tr>\n",
       "    <tr>\n",
       "      <th>570</th>\n",
       "      <td>‘Ewa Beach</td>\n",
       "      <td>21.3156</td>\n",
       "      <td>-158.0072</td>\n",
       "      <td>84.15</td>\n",
       "      <td>62</td>\n",
       "      <td>75</td>\n",
       "      <td>10.00</td>\n",
       "      <td>US</td>\n",
       "      <td>1634854787</td>\n",
       "    </tr>\n",
       "    <tr>\n",
       "      <th>572</th>\n",
       "      <td>Semey</td>\n",
       "      <td>50.4111</td>\n",
       "      <td>80.2275</td>\n",
       "      <td>43.86</td>\n",
       "      <td>83</td>\n",
       "      <td>100</td>\n",
       "      <td>16.55</td>\n",
       "      <td>KZ</td>\n",
       "      <td>1634854789</td>\n",
       "    </tr>\n",
       "    <tr>\n",
       "      <th>574</th>\n",
       "      <td>Bay City</td>\n",
       "      <td>43.5945</td>\n",
       "      <td>-83.8889</td>\n",
       "      <td>54.64</td>\n",
       "      <td>93</td>\n",
       "      <td>90</td>\n",
       "      <td>18.41</td>\n",
       "      <td>US</td>\n",
       "      <td>1634854707</td>\n",
       "    </tr>\n",
       "  </tbody>\n",
       "</table>\n",
       "<p>399 rows × 9 columns</p>\n",
       "</div>"
      ],
      "text/plain": [
       "                City  Latitude  Longitude  Max Temperature  Humidity  \\\n",
       "0              Edson   53.5835  -116.4356            59.14        36   \n",
       "1          Guangzhou   23.1167   113.2500            60.94        71   \n",
       "2         Nikolskoye   59.7035    30.7861            53.87        85   \n",
       "3    Havre-St-Pierre   50.2334   -63.5986            50.00        87   \n",
       "4           Kuril'sk   45.2333   147.8833            41.11        84   \n",
       "..               ...       ...        ...              ...       ...   \n",
       "565           Camopi    3.1655   -52.3158            79.23        71   \n",
       "569       Chandigarh   30.7343    76.7933            67.46        40   \n",
       "570       ‘Ewa Beach   21.3156  -158.0072            84.15        62   \n",
       "572            Semey   50.4111    80.2275            43.86        83   \n",
       "574         Bay City   43.5945   -83.8889            54.64        93   \n",
       "\n",
       "     Cloudiness  Wind Speed Country        Date  \n",
       "0             1        8.05      CA  1634854598  \n",
       "1            95       12.75      CN  1634854289  \n",
       "2           100       16.40      RU  1634854598  \n",
       "3             1        4.61      CA  1634854598  \n",
       "4           100        4.29      RU  1634854599  \n",
       "..          ...         ...     ...         ...  \n",
       "565          72        3.89      GF  1634854785  \n",
       "569           0        3.87      IN  1634854787  \n",
       "570          75       10.00      US  1634854787  \n",
       "572         100       16.55      KZ  1634854789  \n",
       "574          90       18.41      US  1634854707  \n",
       "\n",
       "[399 rows x 9 columns]"
      ]
     },
     "execution_count": 55,
     "metadata": {},
     "output_type": "execute_result"
    }
   ],
   "source": [
    "northern"
   ]
  },
  {
   "cell_type": "code",
   "execution_count": 56,
   "metadata": {},
   "outputs": [
    {
     "data": {
      "text/html": [
       "<div>\n",
       "<style scoped>\n",
       "    .dataframe tbody tr th:only-of-type {\n",
       "        vertical-align: middle;\n",
       "    }\n",
       "\n",
       "    .dataframe tbody tr th {\n",
       "        vertical-align: top;\n",
       "    }\n",
       "\n",
       "    .dataframe thead th {\n",
       "        text-align: right;\n",
       "    }\n",
       "</style>\n",
       "<table border=\"1\" class=\"dataframe\">\n",
       "  <thead>\n",
       "    <tr style=\"text-align: right;\">\n",
       "      <th></th>\n",
       "      <th>City</th>\n",
       "      <th>Latitude</th>\n",
       "      <th>Longitude</th>\n",
       "      <th>Max Temperature</th>\n",
       "      <th>Humidity</th>\n",
       "      <th>Cloudiness</th>\n",
       "      <th>Wind Speed</th>\n",
       "      <th>Country</th>\n",
       "      <th>Date</th>\n",
       "    </tr>\n",
       "  </thead>\n",
       "  <tbody>\n",
       "    <tr>\n",
       "      <th>5</th>\n",
       "      <td>Atuona</td>\n",
       "      <td>-9.8000</td>\n",
       "      <td>-139.0333</td>\n",
       "      <td>77.88</td>\n",
       "      <td>78</td>\n",
       "      <td>10</td>\n",
       "      <td>19.91</td>\n",
       "      <td>PF</td>\n",
       "      <td>1634854599</td>\n",
       "    </tr>\n",
       "    <tr>\n",
       "      <th>6</th>\n",
       "      <td>Hermanus</td>\n",
       "      <td>-34.4187</td>\n",
       "      <td>19.2345</td>\n",
       "      <td>60.80</td>\n",
       "      <td>76</td>\n",
       "      <td>100</td>\n",
       "      <td>4.83</td>\n",
       "      <td>ZA</td>\n",
       "      <td>1634854600</td>\n",
       "    </tr>\n",
       "    <tr>\n",
       "      <th>7</th>\n",
       "      <td>Punta Arenas</td>\n",
       "      <td>-53.1500</td>\n",
       "      <td>-70.9167</td>\n",
       "      <td>48.31</td>\n",
       "      <td>49</td>\n",
       "      <td>40</td>\n",
       "      <td>24.16</td>\n",
       "      <td>CL</td>\n",
       "      <td>1634854317</td>\n",
       "    </tr>\n",
       "    <tr>\n",
       "      <th>8</th>\n",
       "      <td>Souillac</td>\n",
       "      <td>-20.5167</td>\n",
       "      <td>57.5167</td>\n",
       "      <td>74.35</td>\n",
       "      <td>83</td>\n",
       "      <td>75</td>\n",
       "      <td>3.44</td>\n",
       "      <td>MU</td>\n",
       "      <td>1634854600</td>\n",
       "    </tr>\n",
       "    <tr>\n",
       "      <th>14</th>\n",
       "      <td>Beira</td>\n",
       "      <td>-19.8436</td>\n",
       "      <td>34.8389</td>\n",
       "      <td>71.28</td>\n",
       "      <td>72</td>\n",
       "      <td>11</td>\n",
       "      <td>8.05</td>\n",
       "      <td>MZ</td>\n",
       "      <td>1634854602</td>\n",
       "    </tr>\n",
       "    <tr>\n",
       "      <th>...</th>\n",
       "      <td>...</td>\n",
       "      <td>...</td>\n",
       "      <td>...</td>\n",
       "      <td>...</td>\n",
       "      <td>...</td>\n",
       "      <td>...</td>\n",
       "      <td>...</td>\n",
       "      <td>...</td>\n",
       "      <td>...</td>\n",
       "    </tr>\n",
       "    <tr>\n",
       "      <th>566</th>\n",
       "      <td>Elliot</td>\n",
       "      <td>-31.3333</td>\n",
       "      <td>27.8500</td>\n",
       "      <td>60.13</td>\n",
       "      <td>51</td>\n",
       "      <td>100</td>\n",
       "      <td>4.61</td>\n",
       "      <td>ZA</td>\n",
       "      <td>1634854786</td>\n",
       "    </tr>\n",
       "    <tr>\n",
       "      <th>567</th>\n",
       "      <td>Luganville</td>\n",
       "      <td>-15.5333</td>\n",
       "      <td>167.1667</td>\n",
       "      <td>79.59</td>\n",
       "      <td>81</td>\n",
       "      <td>100</td>\n",
       "      <td>4.97</td>\n",
       "      <td>VU</td>\n",
       "      <td>1634854786</td>\n",
       "    </tr>\n",
       "    <tr>\n",
       "      <th>568</th>\n",
       "      <td>Kupang</td>\n",
       "      <td>-10.1667</td>\n",
       "      <td>123.5833</td>\n",
       "      <td>77.58</td>\n",
       "      <td>100</td>\n",
       "      <td>20</td>\n",
       "      <td>3.44</td>\n",
       "      <td>ID</td>\n",
       "      <td>1634854786</td>\n",
       "    </tr>\n",
       "    <tr>\n",
       "      <th>571</th>\n",
       "      <td>Ulladulla</td>\n",
       "      <td>-35.3500</td>\n",
       "      <td>150.4667</td>\n",
       "      <td>66.09</td>\n",
       "      <td>84</td>\n",
       "      <td>32</td>\n",
       "      <td>2.15</td>\n",
       "      <td>AU</td>\n",
       "      <td>1634854788</td>\n",
       "    </tr>\n",
       "    <tr>\n",
       "      <th>573</th>\n",
       "      <td>Kilindoni</td>\n",
       "      <td>-7.9139</td>\n",
       "      <td>39.6668</td>\n",
       "      <td>77.50</td>\n",
       "      <td>77</td>\n",
       "      <td>19</td>\n",
       "      <td>12.08</td>\n",
       "      <td>TZ</td>\n",
       "      <td>1634854789</td>\n",
       "    </tr>\n",
       "  </tbody>\n",
       "</table>\n",
       "<p>176 rows × 9 columns</p>\n",
       "</div>"
      ],
      "text/plain": [
       "             City  Latitude  Longitude  Max Temperature  Humidity  Cloudiness  \\\n",
       "5          Atuona   -9.8000  -139.0333            77.88        78          10   \n",
       "6        Hermanus  -34.4187    19.2345            60.80        76         100   \n",
       "7    Punta Arenas  -53.1500   -70.9167            48.31        49          40   \n",
       "8        Souillac  -20.5167    57.5167            74.35        83          75   \n",
       "14          Beira  -19.8436    34.8389            71.28        72          11   \n",
       "..            ...       ...        ...              ...       ...         ...   \n",
       "566        Elliot  -31.3333    27.8500            60.13        51         100   \n",
       "567    Luganville  -15.5333   167.1667            79.59        81         100   \n",
       "568        Kupang  -10.1667   123.5833            77.58       100          20   \n",
       "571     Ulladulla  -35.3500   150.4667            66.09        84          32   \n",
       "573     Kilindoni   -7.9139    39.6668            77.50        77          19   \n",
       "\n",
       "     Wind Speed Country        Date  \n",
       "5         19.91      PF  1634854599  \n",
       "6          4.83      ZA  1634854600  \n",
       "7         24.16      CL  1634854317  \n",
       "8          3.44      MU  1634854600  \n",
       "14         8.05      MZ  1634854602  \n",
       "..          ...     ...         ...  \n",
       "566        4.61      ZA  1634854786  \n",
       "567        4.97      VU  1634854786  \n",
       "568        3.44      ID  1634854786  \n",
       "571        2.15      AU  1634854788  \n",
       "573       12.08      TZ  1634854789  \n",
       "\n",
       "[176 rows x 9 columns]"
      ]
     },
     "execution_count": 56,
     "metadata": {},
     "output_type": "execute_result"
    }
   ],
   "source": [
    "southern"
   ]
  },
  {
   "cell_type": "markdown",
   "metadata": {},
   "source": [
    "####  Northern Hemisphere - Max Temp vs. Latitude Linear Regression"
   ]
  },
  {
   "cell_type": "code",
   "execution_count": 57,
   "metadata": {
    "scrolled": false
   },
   "outputs": [
    {
     "name": "stdout",
     "output_type": "stream",
     "text": [
      "The r-squared is: 0.7272\n"
     ]
    },
    {
     "data": {
      "image/png": "[encoded data removed]",
      "text/plain": [
       "<Figure size 432x288 with 1 Axes>"
      ]
     },
     "metadata": {
      "needs_background": "light"
     },
     "output_type": "display_data"
    },
    {
     "data": {
      "text/plain": [
       "<Figure size 432x288 with 0 Axes>"
      ]
     },
     "metadata": {},
     "output_type": "display_data"
    }
   ],
   "source": [
    "# calling weather_regression function to plot and add linear regression\n",
    "regression(north_df['Latitude'],north_df['Max Temperature'],'Max Temperature (F)',\n",
    "                   \"Northern Hemisphere - Max Temp vs. Latitude\",25,25)\n",
    "plt.savefig(\"Images/City NLatitude vs. Max Temperature.png\")"
   ]
  },
  {
   "cell_type": "markdown",
   "metadata": {},
   "source": [
    "####  Southern Hemisphere - Max Temp vs. Latitude Linear Regression"
   ]
  },
  {
   "cell_type": "code",
   "execution_count": 58,
   "metadata": {
    "scrolled": true
   },
   "outputs": [
    {
     "name": "stdout",
     "output_type": "stream",
     "text": [
      "The r-squared is: 0.4636\n"
     ]
    },
    {
     "data": {
      "image/png": "[encoded data removed]",
      "text/plain": [
       "<Figure size 432x288 with 1 Axes>"
      ]
     },
     "metadata": {
      "needs_background": "light"
     },
     "output_type": "display_data"
    },
    {
     "data": {
      "text/plain": [
       "<Figure size 432x288 with 0 Axes>"
      ]
     },
     "metadata": {},
     "output_type": "display_data"
    }
   ],
   "source": [
    "regression(south_df['Latitude'],south_df['Max Temperature'],'Max Temperature (F)',\n",
    "                   \"Southern Hemisphere - Max Temp vs. Latitude\",25,25)\n",
    "plt.savefig(\"Images/City SLatitude vs. Max Temperature.png\")"
   ]
  },
  {
   "cell_type": "markdown",
   "metadata": {},
   "source": [
    "####  Northern Hemisphere - Humidity (%) vs. Latitude Linear Regression"
   ]
  },
  {
   "cell_type": "code",
   "execution_count": 59,
   "metadata": {
    "scrolled": true
   },
   "outputs": [
    {
     "name": "stdout",
     "output_type": "stream",
     "text": [
      "The r-squared is: 0.0243\n"
     ]
    },
    {
     "data": {
      "image/png": "[encoded data removed]",
      "text/plain": [
       "<Figure size 432x288 with 1 Axes>"
      ]
     },
     "metadata": {
      "needs_background": "light"
     },
     "output_type": "display_data"
    },
    {
     "data": {
      "text/plain": [
       "<Figure size 432x288 with 0 Axes>"
      ]
     },
     "metadata": {},
     "output_type": "display_data"
    }
   ],
   "source": [
    "regression(north_df['Latitude'],north_df['Humidity'],'Humidity',\n",
    "                   \"Northern Hemisphere - Humidity vs. Latitude\",25,25)\n",
    "plt.savefig(\"Images/City NLatitude vs. Humidity.png\")"
   ]
  },
  {
   "cell_type": "markdown",
   "metadata": {},
   "source": [
    "####  Southern Hemisphere - Humidity (%) vs. Latitude Linear Regression"
   ]
  },
  {
   "cell_type": "code",
   "execution_count": 60,
   "metadata": {
    "scrolled": false
   },
   "outputs": [
    {
     "name": "stdout",
     "output_type": "stream",
     "text": [
      "The r-squared is: 0.0576\n"
     ]
    },
    {
     "data": {
      "image/png": "[encoded data removed]",
      "text/plain": [
       "<Figure size 432x288 with 1 Axes>"
      ]
     },
     "metadata": {
      "needs_background": "light"
     },
     "output_type": "display_data"
    },
    {
     "data": {
      "text/plain": [
       "<Figure size 432x288 with 0 Axes>"
      ]
     },
     "metadata": {},
     "output_type": "display_data"
    }
   ],
   "source": [
    "regression(south_df['Latitude'],south_df['Humidity'],'Humidity',\n",
    "                   \"Southern Hemisphere - Humidity vs. Latitude\",25,25)\n",
    "plt.savefig(\"Images/City SLatitude vs. Humidity.png\")"
   ]
  },
  {
   "cell_type": "markdown",
   "metadata": {},
   "source": [
    "####  Northern Hemisphere - Cloudiness (%) vs. Latitude Linear Regression"
   ]
  },
  {
   "cell_type": "code",
   "execution_count": 61,
   "metadata": {
    "scrolled": false
   },
   "outputs": [
    {
     "name": "stdout",
     "output_type": "stream",
     "text": [
      "The r-squared is: 0.0257\n"
     ]
    },
    {
     "data": {
      "image/png": "[encoded data removed]",
      "text/plain": [
       "<Figure size 432x288 with 1 Axes>"
      ]
     },
     "metadata": {
      "needs_background": "light"
     },
     "output_type": "display_data"
    },
    {
     "data": {
      "text/plain": [
       "<Figure size 432x288 with 0 Axes>"
      ]
     },
     "metadata": {},
     "output_type": "display_data"
    }
   ],
   "source": [
    "regression(north_df['Latitude'],north_df['Cloudiness'],'Cloudiness',\n",
    "                   \"Northern Hemisphere - Cloudiness vs. Latitude\",25,25)\n",
    "plt.savefig(\"Images/City NLatitude vs. Cloudiness.png\")"
   ]
  },
  {
   "cell_type": "markdown",
   "metadata": {},
   "source": [
    "####  Southern Hemisphere - Cloudiness (%) vs. Latitude Linear Regression"
   ]
  },
  {
   "cell_type": "code",
   "execution_count": 62,
   "metadata": {
    "scrolled": true
   },
   "outputs": [
    {
     "name": "stdout",
     "output_type": "stream",
     "text": [
      "The r-squared is: 0.1022\n"
     ]
    },
    {
     "data": {
      "image/png": "[encoded data removed]",
      "text/plain": [
       "<Figure size 432x288 with 1 Axes>"
      ]
     },
     "metadata": {
      "needs_background": "light"
     },
     "output_type": "display_data"
    },
    {
     "data": {
      "text/plain": [
       "<Figure size 432x288 with 0 Axes>"
      ]
     },
     "metadata": {},
     "output_type": "display_data"
    }
   ],
   "source": [
    "regression(south_df['Latitude'],south_df['Cloudiness'],'Cloudiness',\n",
    "                   \"Southern Hemisphere - Cloudiness vs. Latitude\",25,25)\n",
    "plt.savefig(\"Images/City SLatitude vs. Cloudiness.png\")"
   ]
  },
  {
   "cell_type": "markdown",
   "metadata": {},
   "source": [
    "####  Northern Hemisphere - Wind Speed (mph) vs. Latitude Linear Regression"
   ]
  },
  {
   "cell_type": "code",
   "execution_count": 63,
   "metadata": {
    "scrolled": true
   },
   "outputs": [
    {
     "name": "stdout",
     "output_type": "stream",
     "text": [
      "The r-squared is: 0.0230\n"
     ]
    },
    {
     "data": {
      "image/png": "[encoded data removed]",
      "text/plain": [
       "<Figure size 432x288 with 1 Axes>"
      ]
     },
     "metadata": {
      "needs_background": "light"
     },
     "output_type": "display_data"
    },
    {
     "data": {
      "text/plain": [
       "<Figure size 432x288 with 0 Axes>"
      ]
     },
     "metadata": {},
     "output_type": "display_data"
    }
   ],
   "source": [
    "regression(north_df['Latitude'],north_df['Wind Speed'],'Wind Speed',\n",
    "                   \"Northern Hemisphere - Wind Speed vs. Latitude\",30,25)\n",
    "plt.savefig(\"Images/City NLatitude vs. Wind Speed.png\")"
   ]
  },
  {
   "cell_type": "markdown",
   "metadata": {},
   "source": [
    "####  Southern Hemisphere - Wind Speed (mph) vs. Latitude Linear Regression"
   ]
  },
  {
   "cell_type": "code",
   "execution_count": 64,
   "metadata": {
    "scrolled": false
   },
   "outputs": [
    {
     "name": "stdout",
     "output_type": "stream",
     "text": [
      "The r-squared is: 0.0489\n"
     ]
    },
    {
     "data": {
      "image/png": "[encoded data removed]",
      "text/plain": [
       "<Figure size 432x288 with 1 Axes>"
      ]
     },
     "metadata": {
      "needs_background": "light"
     },
     "output_type": "display_data"
    },
    {
     "data": {
      "text/plain": [
       "<Figure size 432x288 with 0 Axes>"
      ]
     },
     "metadata": {},
     "output_type": "display_data"
    }
   ],
   "source": [
    "regression(south_df['Latitude'],south_df['Wind Speed'],'Wind Speed',\n",
    "                   \"Southern Hemisphere - Wind Speed vs. Latitude\",-50,25)\n",
    "plt.savefig(\"Images/City SLatitude vs. Wind Speed.png\")"
   ]
  },
  {
   "cell_type": "code",
   "execution_count": null,
   "metadata": {},
   "outputs": [],
   "source": []
  }
 ],
 "metadata": {
  "anaconda-cloud": {},
  "kernel_info": {
   "name": "python3"
  },
  "kernelspec": {
   "display_name": "Python 3",
   "language": "python",
   "name": "python3"
  },
  "language_info": {
   "codemirror_mode": {
    "name": "ipython",
    "version": 3
   },
   "file_extension": ".py",
   "mimetype": "text/x-python",
   "name": "python",
   "nbconvert_exporter": "python",
   "pygments_lexer": "ipython3",
   "version": "3.8.8"
  },
  "latex_envs": {
   "LaTeX_envs_menu_present": true,
   "autoclose": false,
   "autocomplete": true,
   "bibliofile": "biblio.bib",
   "cite_by": "apalike",
   "current_citInitial": 1,
   "eqLabelWithNumbers": true,
   "eqNumInitial": 1,
   "hotkeys": {
    "equation": "Ctrl-E",
    "itemize": "Ctrl-I"
   },
   "labels_anchors": false,
   "latex_user_defs": false,
   "report_style_numbering": false,
   "user_envs_cfg": false
  },
  "nteract": {
   "version": "0.12.3"
  }
 },
 "nbformat": 4,
 "nbformat_minor": 2
}
